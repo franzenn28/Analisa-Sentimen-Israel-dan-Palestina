{
 "cells": [
  {
   "cell_type": "code",
   "execution_count": 1,
   "metadata": {},
   "outputs": [],
   "source": [
    "import pandas as pd\n",
    "!pip install -q \"great-expectations==0.18.19\", \"numpy<2\""
   ]
  },
  {
   "cell_type": "code",
   "execution_count": 2,
   "metadata": {},
   "outputs": [],
   "source": [
    "from great_expectations.data_context import FileDataContext\n",
    "\n",
    "context = FileDataContext.create(project_root_dir='./')"
   ]
  },
  {
   "cell_type": "code",
   "execution_count": 3,
   "metadata": {},
   "outputs": [],
   "source": [
    "df = pd.read_csv(\"reddit_opinion.csv\")"
   ]
  },
  {
   "cell_type": "code",
   "execution_count": 4,
   "metadata": {},
   "outputs": [
    {
     "data": {
      "text/html": [
       "<div>\n",
       "<style scoped>\n",
       "    .dataframe tbody tr th:only-of-type {\n",
       "        vertical-align: middle;\n",
       "    }\n",
       "\n",
       "    .dataframe tbody tr th {\n",
       "        vertical-align: top;\n",
       "    }\n",
       "\n",
       "    .dataframe thead th {\n",
       "        text-align: right;\n",
       "    }\n",
       "</style>\n",
       "<table border=\"1\" class=\"dataframe\">\n",
       "  <thead>\n",
       "    <tr style=\"text-align: right;\">\n",
       "      <th></th>\n",
       "      <th>comment_id</th>\n",
       "      <th>score</th>\n",
       "      <th>self_text</th>\n",
       "      <th>subreddit</th>\n",
       "      <th>created_time</th>\n",
       "      <th>post_id</th>\n",
       "      <th>author_name</th>\n",
       "      <th>controversiality</th>\n",
       "      <th>ups</th>\n",
       "      <th>downs</th>\n",
       "      <th>...</th>\n",
       "      <th>user_link_karma</th>\n",
       "      <th>user_comment_karma</th>\n",
       "      <th>user_total_karma</th>\n",
       "      <th>post_score</th>\n",
       "      <th>post_self_text</th>\n",
       "      <th>post_title</th>\n",
       "      <th>post_upvote_ratio</th>\n",
       "      <th>post_thumbs_ups</th>\n",
       "      <th>post_total_awards_received</th>\n",
       "      <th>post_created_time</th>\n",
       "    </tr>\n",
       "  </thead>\n",
       "  <tbody>\n",
       "    <tr>\n",
       "      <th>0</th>\n",
       "      <td>m7sdxge</td>\n",
       "      <td>1</td>\n",
       "      <td>There goes $18</td>\n",
       "      <td>PublicFreakout</td>\n",
       "      <td>2025-01-18 11:44:54</td>\n",
       "      <td>1i3zgv5</td>\n",
       "      <td>MangoMelts</td>\n",
       "      <td>0</td>\n",
       "      <td>1</td>\n",
       "      <td>0</td>\n",
       "      <td>...</td>\n",
       "      <td>1844.0</td>\n",
       "      <td>623.0</td>\n",
       "      <td>2467.0</td>\n",
       "      <td>210</td>\n",
       "      <td>We all know: Beer plays outfield only.</td>\n",
       "      <td>Never let your beer play catcher.</td>\n",
       "      <td>0.86</td>\n",
       "      <td>210</td>\n",
       "      <td>0</td>\n",
       "      <td>2025-01-18 04:18:17</td>\n",
       "    </tr>\n",
       "    <tr>\n",
       "      <th>1</th>\n",
       "      <td>m7sdv1h</td>\n",
       "      <td>1</td>\n",
       "      <td>It wasn’t even a Muslim ban you hyperbolic pus...</td>\n",
       "      <td>worldnews</td>\n",
       "      <td>2025-01-18 11:44:16</td>\n",
       "      <td>1i40ary</td>\n",
       "      <td>NL_A</td>\n",
       "      <td>0</td>\n",
       "      <td>1</td>\n",
       "      <td>0</td>\n",
       "      <td>...</td>\n",
       "      <td>15.0</td>\n",
       "      <td>469.0</td>\n",
       "      <td>484.0</td>\n",
       "      <td>335</td>\n",
       "      <td>NaN</td>\n",
       "      <td>Netanyahu: Trump fully backs Israel returning ...</td>\n",
       "      <td>0.86</td>\n",
       "      <td>335</td>\n",
       "      <td>0</td>\n",
       "      <td>2025-01-18 05:08:53</td>\n",
       "    </tr>\n",
       "    <tr>\n",
       "      <th>2</th>\n",
       "      <td>m7sduj1</td>\n",
       "      <td>1</td>\n",
       "      <td>He couldn't of said this before the election?</td>\n",
       "      <td>worldnewsvideo</td>\n",
       "      <td>2025-01-18 11:44:08</td>\n",
       "      <td>1i3n9f5</td>\n",
       "      <td>ilostmyeraser</td>\n",
       "      <td>0</td>\n",
       "      <td>1</td>\n",
       "      <td>0</td>\n",
       "      <td>...</td>\n",
       "      <td>17.0</td>\n",
       "      <td>2621.0</td>\n",
       "      <td>2660.0</td>\n",
       "      <td>883</td>\n",
       "      <td>NaN</td>\n",
       "      <td>Biden admits netanyahu had every intention to ...</td>\n",
       "      <td>0.96</td>\n",
       "      <td>883</td>\n",
       "      <td>0</td>\n",
       "      <td>2025-01-17 18:34:42</td>\n",
       "    </tr>\n",
       "    <tr>\n",
       "      <th>3</th>\n",
       "      <td>m7sdqy3</td>\n",
       "      <td>1</td>\n",
       "      <td>Looks like he picked the wrong week to quit sn...</td>\n",
       "      <td>CombatFootage</td>\n",
       "      <td>2025-01-18 11:43:12</td>\n",
       "      <td>1i3ux9v</td>\n",
       "      <td>du-werk</td>\n",
       "      <td>0</td>\n",
       "      <td>1</td>\n",
       "      <td>0</td>\n",
       "      <td>...</td>\n",
       "      <td>602.0</td>\n",
       "      <td>1786.0</td>\n",
       "      <td>2396.0</td>\n",
       "      <td>2162</td>\n",
       "      <td>NaN</td>\n",
       "      <td>Archival footage of the self destruction of Ru...</td>\n",
       "      <td>0.97</td>\n",
       "      <td>2162</td>\n",
       "      <td>0</td>\n",
       "      <td>2025-01-18 00:16:43</td>\n",
       "    </tr>\n",
       "    <tr>\n",
       "      <th>4</th>\n",
       "      <td>m7sdqak</td>\n",
       "      <td>1</td>\n",
       "      <td>Cabinets and coalition governments are like th...</td>\n",
       "      <td>worldnews</td>\n",
       "      <td>2025-01-18 11:43:02</td>\n",
       "      <td>1i40ary</td>\n",
       "      <td>treeboy009</td>\n",
       "      <td>0</td>\n",
       "      <td>1</td>\n",
       "      <td>0</td>\n",
       "      <td>...</td>\n",
       "      <td>1360.0</td>\n",
       "      <td>22673.0</td>\n",
       "      <td>24073.0</td>\n",
       "      <td>335</td>\n",
       "      <td>NaN</td>\n",
       "      <td>Netanyahu: Trump fully backs Israel returning ...</td>\n",
       "      <td>0.86</td>\n",
       "      <td>335</td>\n",
       "      <td>0</td>\n",
       "      <td>2025-01-18 05:08:53</td>\n",
       "    </tr>\n",
       "    <tr>\n",
       "      <th>...</th>\n",
       "      <td>...</td>\n",
       "      <td>...</td>\n",
       "      <td>...</td>\n",
       "      <td>...</td>\n",
       "      <td>...</td>\n",
       "      <td>...</td>\n",
       "      <td>...</td>\n",
       "      <td>...</td>\n",
       "      <td>...</td>\n",
       "      <td>...</td>\n",
       "      <td>...</td>\n",
       "      <td>...</td>\n",
       "      <td>...</td>\n",
       "      <td>...</td>\n",
       "      <td>...</td>\n",
       "      <td>...</td>\n",
       "      <td>...</td>\n",
       "      <td>...</td>\n",
       "      <td>...</td>\n",
       "      <td>...</td>\n",
       "      <td>...</td>\n",
       "    </tr>\n",
       "    <tr>\n",
       "      <th>2346044</th>\n",
       "      <td>jyt47gw</td>\n",
       "      <td>64</td>\n",
       "      <td>Something similar happened in Sweden recently.</td>\n",
       "      <td>ActualPublicFreakouts</td>\n",
       "      <td>2023-09-02 13:57:37</td>\n",
       "      <td>1680ip7</td>\n",
       "      <td>RevolutionarySoil11</td>\n",
       "      <td>0</td>\n",
       "      <td>64</td>\n",
       "      <td>0</td>\n",
       "      <td>...</td>\n",
       "      <td>1155.0</td>\n",
       "      <td>15755.0</td>\n",
       "      <td>17768.0</td>\n",
       "      <td>597</td>\n",
       "      <td>NaN</td>\n",
       "      <td>Eritrean immigrants (illegals) fighting in the...</td>\n",
       "      <td>0.94</td>\n",
       "      <td>597</td>\n",
       "      <td>0</td>\n",
       "      <td>2023-09-02 11:52:49</td>\n",
       "    </tr>\n",
       "    <tr>\n",
       "      <th>2346045</th>\n",
       "      <td>jyt10so</td>\n",
       "      <td>214</td>\n",
       "      <td>They should leave the anger and hatred back wh...</td>\n",
       "      <td>ActualPublicFreakouts</td>\n",
       "      <td>2023-09-02 13:33:15</td>\n",
       "      <td>1680ip7</td>\n",
       "      <td>theXsquid</td>\n",
       "      <td>0</td>\n",
       "      <td>214</td>\n",
       "      <td>0</td>\n",
       "      <td>...</td>\n",
       "      <td>27271.0</td>\n",
       "      <td>132542.0</td>\n",
       "      <td>162385.0</td>\n",
       "      <td>597</td>\n",
       "      <td>NaN</td>\n",
       "      <td>Eritrean immigrants (illegals) fighting in the...</td>\n",
       "      <td>0.94</td>\n",
       "      <td>597</td>\n",
       "      <td>0</td>\n",
       "      <td>2023-09-02 11:52:49</td>\n",
       "    </tr>\n",
       "    <tr>\n",
       "      <th>2346046</th>\n",
       "      <td>jyszx3n</td>\n",
       "      <td>71</td>\n",
       "      <td>Something similar happened in Germany recently...</td>\n",
       "      <td>ActualPublicFreakouts</td>\n",
       "      <td>2023-09-02 13:24:53</td>\n",
       "      <td>1680ip7</td>\n",
       "      <td>P3ric</td>\n",
       "      <td>0</td>\n",
       "      <td>71</td>\n",
       "      <td>0</td>\n",
       "      <td>...</td>\n",
       "      <td>12875.0</td>\n",
       "      <td>4938.0</td>\n",
       "      <td>18955.0</td>\n",
       "      <td>597</td>\n",
       "      <td>NaN</td>\n",
       "      <td>Eritrean immigrants (illegals) fighting in the...</td>\n",
       "      <td>0.94</td>\n",
       "      <td>597</td>\n",
       "      <td>0</td>\n",
       "      <td>2023-09-02 11:52:49</td>\n",
       "    </tr>\n",
       "    <tr>\n",
       "      <th>2346047</th>\n",
       "      <td>jysrra4</td>\n",
       "      <td>120</td>\n",
       "      <td>Who are the yellow shirts? The referees?</td>\n",
       "      <td>ActualPublicFreakouts</td>\n",
       "      <td>2023-09-02 12:17:34</td>\n",
       "      <td>1680ip7</td>\n",
       "      <td>[deleted]</td>\n",
       "      <td>0</td>\n",
       "      <td>120</td>\n",
       "      <td>0</td>\n",
       "      <td>...</td>\n",
       "      <td>0.0</td>\n",
       "      <td>0.0</td>\n",
       "      <td>0.0</td>\n",
       "      <td>597</td>\n",
       "      <td>NaN</td>\n",
       "      <td>Eritrean immigrants (illegals) fighting in the...</td>\n",
       "      <td>0.94</td>\n",
       "      <td>597</td>\n",
       "      <td>0</td>\n",
       "      <td>2023-09-02 11:52:49</td>\n",
       "    </tr>\n",
       "    <tr>\n",
       "      <th>2346048</th>\n",
       "      <td>jysq2o4</td>\n",
       "      <td>56</td>\n",
       "      <td>Something similar happened in Toronto recently.</td>\n",
       "      <td>ActualPublicFreakouts</td>\n",
       "      <td>2023-09-02 12:02:19</td>\n",
       "      <td>1680ip7</td>\n",
       "      <td>Midnightoclock</td>\n",
       "      <td>0</td>\n",
       "      <td>56</td>\n",
       "      <td>0</td>\n",
       "      <td>...</td>\n",
       "      <td>14247.0</td>\n",
       "      <td>84939.0</td>\n",
       "      <td>102325.0</td>\n",
       "      <td>597</td>\n",
       "      <td>NaN</td>\n",
       "      <td>Eritrean immigrants (illegals) fighting in the...</td>\n",
       "      <td>0.94</td>\n",
       "      <td>597</td>\n",
       "      <td>0</td>\n",
       "      <td>2023-09-02 11:52:49</td>\n",
       "    </tr>\n",
       "  </tbody>\n",
       "</table>\n",
       "<p>2346049 rows × 24 columns</p>\n",
       "</div>"
      ],
      "text/plain": [
       "        comment_id  score                                          self_text  \\\n",
       "0          m7sdxge      1                                     There goes $18   \n",
       "1          m7sdv1h      1  It wasn’t even a Muslim ban you hyperbolic pus...   \n",
       "2          m7sduj1      1      He couldn't of said this before the election?   \n",
       "3          m7sdqy3      1  Looks like he picked the wrong week to quit sn...   \n",
       "4          m7sdqak      1  Cabinets and coalition governments are like th...   \n",
       "...            ...    ...                                                ...   \n",
       "2346044    jyt47gw     64     Something similar happened in Sweden recently.   \n",
       "2346045    jyt10so    214  They should leave the anger and hatred back wh...   \n",
       "2346046    jyszx3n     71  Something similar happened in Germany recently...   \n",
       "2346047    jysrra4    120           Who are the yellow shirts? The referees?   \n",
       "2346048    jysq2o4     56    Something similar happened in Toronto recently.   \n",
       "\n",
       "                     subreddit         created_time  post_id  \\\n",
       "0               PublicFreakout  2025-01-18 11:44:54  1i3zgv5   \n",
       "1                    worldnews  2025-01-18 11:44:16  1i40ary   \n",
       "2               worldnewsvideo  2025-01-18 11:44:08  1i3n9f5   \n",
       "3                CombatFootage  2025-01-18 11:43:12  1i3ux9v   \n",
       "4                    worldnews  2025-01-18 11:43:02  1i40ary   \n",
       "...                        ...                  ...      ...   \n",
       "2346044  ActualPublicFreakouts  2023-09-02 13:57:37  1680ip7   \n",
       "2346045  ActualPublicFreakouts  2023-09-02 13:33:15  1680ip7   \n",
       "2346046  ActualPublicFreakouts  2023-09-02 13:24:53  1680ip7   \n",
       "2346047  ActualPublicFreakouts  2023-09-02 12:17:34  1680ip7   \n",
       "2346048  ActualPublicFreakouts  2023-09-02 12:02:19  1680ip7   \n",
       "\n",
       "                 author_name  controversiality  ups  downs  ...  \\\n",
       "0                 MangoMelts                 0    1      0  ...   \n",
       "1                       NL_A                 0    1      0  ...   \n",
       "2              ilostmyeraser                 0    1      0  ...   \n",
       "3                    du-werk                 0    1      0  ...   \n",
       "4                 treeboy009                 0    1      0  ...   \n",
       "...                      ...               ...  ...    ...  ...   \n",
       "2346044  RevolutionarySoil11                 0   64      0  ...   \n",
       "2346045            theXsquid                 0  214      0  ...   \n",
       "2346046                P3ric                 0   71      0  ...   \n",
       "2346047            [deleted]                 0  120      0  ...   \n",
       "2346048       Midnightoclock                 0   56      0  ...   \n",
       "\n",
       "         user_link_karma user_comment_karma  user_total_karma  post_score  \\\n",
       "0                 1844.0              623.0            2467.0         210   \n",
       "1                   15.0              469.0             484.0         335   \n",
       "2                   17.0             2621.0            2660.0         883   \n",
       "3                  602.0             1786.0            2396.0        2162   \n",
       "4                 1360.0            22673.0           24073.0         335   \n",
       "...                  ...                ...               ...         ...   \n",
       "2346044           1155.0            15755.0           17768.0         597   \n",
       "2346045          27271.0           132542.0          162385.0         597   \n",
       "2346046          12875.0             4938.0           18955.0         597   \n",
       "2346047              0.0                0.0               0.0         597   \n",
       "2346048          14247.0            84939.0          102325.0         597   \n",
       "\n",
       "                                  post_self_text  \\\n",
       "0        We all know: Beer plays outfield only.    \n",
       "1                                            NaN   \n",
       "2                                            NaN   \n",
       "3                                            NaN   \n",
       "4                                            NaN   \n",
       "...                                          ...   \n",
       "2346044                                      NaN   \n",
       "2346045                                      NaN   \n",
       "2346046                                      NaN   \n",
       "2346047                                      NaN   \n",
       "2346048                                      NaN   \n",
       "\n",
       "                                                post_title  post_upvote_ratio  \\\n",
       "0                       Never let your beer play catcher.                0.86   \n",
       "1        Netanyahu: Trump fully backs Israel returning ...               0.86   \n",
       "2        Biden admits netanyahu had every intention to ...               0.96   \n",
       "3        Archival footage of the self destruction of Ru...               0.97   \n",
       "4        Netanyahu: Trump fully backs Israel returning ...               0.86   \n",
       "...                                                    ...                ...   \n",
       "2346044  Eritrean immigrants (illegals) fighting in the...               0.94   \n",
       "2346045  Eritrean immigrants (illegals) fighting in the...               0.94   \n",
       "2346046  Eritrean immigrants (illegals) fighting in the...               0.94   \n",
       "2346047  Eritrean immigrants (illegals) fighting in the...               0.94   \n",
       "2346048  Eritrean immigrants (illegals) fighting in the...               0.94   \n",
       "\n",
       "         post_thumbs_ups post_total_awards_received    post_created_time  \n",
       "0                    210                          0  2025-01-18 04:18:17  \n",
       "1                    335                          0  2025-01-18 05:08:53  \n",
       "2                    883                          0  2025-01-17 18:34:42  \n",
       "3                   2162                          0  2025-01-18 00:16:43  \n",
       "4                    335                          0  2025-01-18 05:08:53  \n",
       "...                  ...                        ...                  ...  \n",
       "2346044              597                          0  2023-09-02 11:52:49  \n",
       "2346045              597                          0  2023-09-02 11:52:49  \n",
       "2346046              597                          0  2023-09-02 11:52:49  \n",
       "2346047              597                          0  2023-09-02 11:52:49  \n",
       "2346048              597                          0  2023-09-02 11:52:49  \n",
       "\n",
       "[2346049 rows x 24 columns]"
      ]
     },
     "execution_count": 4,
     "metadata": {},
     "output_type": "execute_result"
    }
   ],
   "source": [
    "df"
   ]
  },
  {
   "cell_type": "code",
   "execution_count": 5,
   "metadata": {},
   "outputs": [
    {
     "name": "stdout",
     "output_type": "stream",
     "text": [
      "Index(['comment_id', 'score', 'self_text', 'subreddit', 'created_time',\n",
      "       'post_id', 'author_name', 'controversiality', 'ups', 'downs',\n",
      "       'user_is_verified', 'user_account_created_time', 'user_awardee_karma',\n",
      "       'user_awarder_karma', 'user_link_karma', 'user_comment_karma',\n",
      "       'user_total_karma', 'post_score', 'post_self_text', 'post_title',\n",
      "       'post_upvote_ratio', 'post_thumbs_ups', 'post_total_awards_received',\n",
      "       'post_created_time'],\n",
      "      dtype='object')\n"
     ]
    }
   ],
   "source": [
    "print(df.columns)\n"
   ]
  },
  {
   "cell_type": "code",
   "execution_count": 6,
   "metadata": {},
   "outputs": [
    {
     "data": {
      "text/html": [
       "<div>\n",
       "<style scoped>\n",
       "    .dataframe tbody tr th:only-of-type {\n",
       "        vertical-align: middle;\n",
       "    }\n",
       "\n",
       "    .dataframe tbody tr th {\n",
       "        vertical-align: top;\n",
       "    }\n",
       "\n",
       "    .dataframe thead th {\n",
       "        text-align: right;\n",
       "    }\n",
       "</style>\n",
       "<table border=\"1\" class=\"dataframe\">\n",
       "  <thead>\n",
       "    <tr style=\"text-align: right;\">\n",
       "      <th></th>\n",
       "      <th>comment_id</th>\n",
       "      <th>score</th>\n",
       "      <th>self_text</th>\n",
       "      <th>subreddit</th>\n",
       "      <th>created_time</th>\n",
       "      <th>post_id</th>\n",
       "      <th>author_name</th>\n",
       "      <th>controversiality</th>\n",
       "      <th>ups</th>\n",
       "      <th>downs</th>\n",
       "      <th>...</th>\n",
       "      <th>user_link_karma</th>\n",
       "      <th>user_comment_karma</th>\n",
       "      <th>user_total_karma</th>\n",
       "      <th>post_score</th>\n",
       "      <th>post_self_text</th>\n",
       "      <th>post_title</th>\n",
       "      <th>post_upvote_ratio</th>\n",
       "      <th>post_thumbs_ups</th>\n",
       "      <th>post_total_awards_received</th>\n",
       "      <th>post_created_time</th>\n",
       "    </tr>\n",
       "  </thead>\n",
       "  <tbody>\n",
       "    <tr>\n",
       "      <th>0</th>\n",
       "      <td>m7sdxge</td>\n",
       "      <td>1</td>\n",
       "      <td>There goes $18</td>\n",
       "      <td>PublicFreakout</td>\n",
       "      <td>2025-01-18 11:44:54</td>\n",
       "      <td>1i3zgv5</td>\n",
       "      <td>MangoMelts</td>\n",
       "      <td>0</td>\n",
       "      <td>1</td>\n",
       "      <td>0</td>\n",
       "      <td>...</td>\n",
       "      <td>1844.0</td>\n",
       "      <td>623.0</td>\n",
       "      <td>2467.0</td>\n",
       "      <td>210</td>\n",
       "      <td>We all know: Beer plays outfield only.</td>\n",
       "      <td>Never let your beer play catcher.</td>\n",
       "      <td>0.86</td>\n",
       "      <td>210</td>\n",
       "      <td>0</td>\n",
       "      <td>2025-01-18 04:18:17</td>\n",
       "    </tr>\n",
       "    <tr>\n",
       "      <th>1</th>\n",
       "      <td>m7sdv1h</td>\n",
       "      <td>1</td>\n",
       "      <td>It wasn’t even a Muslim ban you hyperbolic pus...</td>\n",
       "      <td>worldnews</td>\n",
       "      <td>2025-01-18 11:44:16</td>\n",
       "      <td>1i40ary</td>\n",
       "      <td>NL_A</td>\n",
       "      <td>0</td>\n",
       "      <td>1</td>\n",
       "      <td>0</td>\n",
       "      <td>...</td>\n",
       "      <td>15.0</td>\n",
       "      <td>469.0</td>\n",
       "      <td>484.0</td>\n",
       "      <td>335</td>\n",
       "      <td>NaN</td>\n",
       "      <td>Netanyahu: Trump fully backs Israel returning ...</td>\n",
       "      <td>0.86</td>\n",
       "      <td>335</td>\n",
       "      <td>0</td>\n",
       "      <td>2025-01-18 05:08:53</td>\n",
       "    </tr>\n",
       "    <tr>\n",
       "      <th>2</th>\n",
       "      <td>m7sduj1</td>\n",
       "      <td>1</td>\n",
       "      <td>He couldn't of said this before the election?</td>\n",
       "      <td>worldnewsvideo</td>\n",
       "      <td>2025-01-18 11:44:08</td>\n",
       "      <td>1i3n9f5</td>\n",
       "      <td>ilostmyeraser</td>\n",
       "      <td>0</td>\n",
       "      <td>1</td>\n",
       "      <td>0</td>\n",
       "      <td>...</td>\n",
       "      <td>17.0</td>\n",
       "      <td>2621.0</td>\n",
       "      <td>2660.0</td>\n",
       "      <td>883</td>\n",
       "      <td>NaN</td>\n",
       "      <td>Biden admits netanyahu had every intention to ...</td>\n",
       "      <td>0.96</td>\n",
       "      <td>883</td>\n",
       "      <td>0</td>\n",
       "      <td>2025-01-17 18:34:42</td>\n",
       "    </tr>\n",
       "    <tr>\n",
       "      <th>3</th>\n",
       "      <td>m7sdqy3</td>\n",
       "      <td>1</td>\n",
       "      <td>Looks like he picked the wrong week to quit sn...</td>\n",
       "      <td>CombatFootage</td>\n",
       "      <td>2025-01-18 11:43:12</td>\n",
       "      <td>1i3ux9v</td>\n",
       "      <td>du-werk</td>\n",
       "      <td>0</td>\n",
       "      <td>1</td>\n",
       "      <td>0</td>\n",
       "      <td>...</td>\n",
       "      <td>602.0</td>\n",
       "      <td>1786.0</td>\n",
       "      <td>2396.0</td>\n",
       "      <td>2162</td>\n",
       "      <td>NaN</td>\n",
       "      <td>Archival footage of the self destruction of Ru...</td>\n",
       "      <td>0.97</td>\n",
       "      <td>2162</td>\n",
       "      <td>0</td>\n",
       "      <td>2025-01-18 00:16:43</td>\n",
       "    </tr>\n",
       "    <tr>\n",
       "      <th>4</th>\n",
       "      <td>m7sdqak</td>\n",
       "      <td>1</td>\n",
       "      <td>Cabinets and coalition governments are like th...</td>\n",
       "      <td>worldnews</td>\n",
       "      <td>2025-01-18 11:43:02</td>\n",
       "      <td>1i40ary</td>\n",
       "      <td>treeboy009</td>\n",
       "      <td>0</td>\n",
       "      <td>1</td>\n",
       "      <td>0</td>\n",
       "      <td>...</td>\n",
       "      <td>1360.0</td>\n",
       "      <td>22673.0</td>\n",
       "      <td>24073.0</td>\n",
       "      <td>335</td>\n",
       "      <td>NaN</td>\n",
       "      <td>Netanyahu: Trump fully backs Israel returning ...</td>\n",
       "      <td>0.86</td>\n",
       "      <td>335</td>\n",
       "      <td>0</td>\n",
       "      <td>2025-01-18 05:08:53</td>\n",
       "    </tr>\n",
       "  </tbody>\n",
       "</table>\n",
       "<p>5 rows × 24 columns</p>\n",
       "</div>"
      ],
      "text/plain": [
       "  comment_id  score                                          self_text  \\\n",
       "0    m7sdxge      1                                     There goes $18   \n",
       "1    m7sdv1h      1  It wasn’t even a Muslim ban you hyperbolic pus...   \n",
       "2    m7sduj1      1      He couldn't of said this before the election?   \n",
       "3    m7sdqy3      1  Looks like he picked the wrong week to quit sn...   \n",
       "4    m7sdqak      1  Cabinets and coalition governments are like th...   \n",
       "\n",
       "        subreddit         created_time  post_id    author_name  \\\n",
       "0  PublicFreakout  2025-01-18 11:44:54  1i3zgv5     MangoMelts   \n",
       "1       worldnews  2025-01-18 11:44:16  1i40ary           NL_A   \n",
       "2  worldnewsvideo  2025-01-18 11:44:08  1i3n9f5  ilostmyeraser   \n",
       "3   CombatFootage  2025-01-18 11:43:12  1i3ux9v        du-werk   \n",
       "4       worldnews  2025-01-18 11:43:02  1i40ary     treeboy009   \n",
       "\n",
       "   controversiality  ups  downs  ...  user_link_karma user_comment_karma  \\\n",
       "0                 0    1      0  ...           1844.0              623.0   \n",
       "1                 0    1      0  ...             15.0              469.0   \n",
       "2                 0    1      0  ...             17.0             2621.0   \n",
       "3                 0    1      0  ...            602.0             1786.0   \n",
       "4                 0    1      0  ...           1360.0            22673.0   \n",
       "\n",
       "   user_total_karma  post_score                           post_self_text  \\\n",
       "0            2467.0         210  We all know: Beer plays outfield only.    \n",
       "1             484.0         335                                      NaN   \n",
       "2            2660.0         883                                      NaN   \n",
       "3            2396.0        2162                                      NaN   \n",
       "4           24073.0         335                                      NaN   \n",
       "\n",
       "                                          post_title  post_upvote_ratio  \\\n",
       "0                 Never let your beer play catcher.                0.86   \n",
       "1  Netanyahu: Trump fully backs Israel returning ...               0.86   \n",
       "2  Biden admits netanyahu had every intention to ...               0.96   \n",
       "3  Archival footage of the self destruction of Ru...               0.97   \n",
       "4  Netanyahu: Trump fully backs Israel returning ...               0.86   \n",
       "\n",
       "   post_thumbs_ups post_total_awards_received    post_created_time  \n",
       "0              210                          0  2025-01-18 04:18:17  \n",
       "1              335                          0  2025-01-18 05:08:53  \n",
       "2              883                          0  2025-01-17 18:34:42  \n",
       "3             2162                          0  2025-01-18 00:16:43  \n",
       "4              335                          0  2025-01-18 05:08:53  \n",
       "\n",
       "[5 rows x 24 columns]"
      ]
     },
     "execution_count": 6,
     "metadata": {},
     "output_type": "execute_result"
    }
   ],
   "source": [
    "df.head(5)"
   ]
  },
  {
   "cell_type": "markdown",
   "metadata": {},
   "source": [
    "# Dim Post"
   ]
  },
  {
   "cell_type": "code",
   "execution_count": 7,
   "metadata": {},
   "outputs": [],
   "source": [
    "# Give a name to a Datasource. This name must be unique between Datasources.\n",
    "datasource_name = 'csv-data-reddit-opinion'\n",
    "datasource = context.sources.add_pandas(datasource_name)\n",
    "\n",
    "# Give a name to a data asset\n",
    "asset_name = 'data-reddit-opinion'\n",
    "path_to_data = 'reddit_opinion.csv'\n",
    "asset = datasource.add_csv_asset(asset_name, filepath_or_buffer=path_to_data)\n",
    "\n",
    "# Build batch request\n",
    "batch_request = asset.build_batch_request()"
   ]
  },
  {
   "cell_type": "code",
   "execution_count": 8,
   "metadata": {},
   "outputs": [
    {
     "data": {
      "application/vnd.jupyter.widget-view+json": {
       "model_id": "d61627116aad4d3eb38ec51fe8fbcdcc",
       "version_major": 2,
       "version_minor": 0
      },
      "text/plain": [
       "Calculating Metrics:   0%|          | 0/1 [00:00<?, ?it/s]"
      ]
     },
     "metadata": {},
     "output_type": "display_data"
    },
    {
     "data": {
      "text/html": [
       "<div>\n",
       "<style scoped>\n",
       "    .dataframe tbody tr th:only-of-type {\n",
       "        vertical-align: middle;\n",
       "    }\n",
       "\n",
       "    .dataframe tbody tr th {\n",
       "        vertical-align: top;\n",
       "    }\n",
       "\n",
       "    .dataframe thead th {\n",
       "        text-align: right;\n",
       "    }\n",
       "</style>\n",
       "<table border=\"1\" class=\"dataframe\">\n",
       "  <thead>\n",
       "    <tr style=\"text-align: right;\">\n",
       "      <th></th>\n",
       "      <th>comment_id</th>\n",
       "      <th>score</th>\n",
       "      <th>self_text</th>\n",
       "      <th>subreddit</th>\n",
       "      <th>created_time</th>\n",
       "      <th>post_id</th>\n",
       "      <th>author_name</th>\n",
       "      <th>controversiality</th>\n",
       "      <th>ups</th>\n",
       "      <th>downs</th>\n",
       "      <th>...</th>\n",
       "      <th>user_link_karma</th>\n",
       "      <th>user_comment_karma</th>\n",
       "      <th>user_total_karma</th>\n",
       "      <th>post_score</th>\n",
       "      <th>post_self_text</th>\n",
       "      <th>post_title</th>\n",
       "      <th>post_upvote_ratio</th>\n",
       "      <th>post_thumbs_ups</th>\n",
       "      <th>post_total_awards_received</th>\n",
       "      <th>post_created_time</th>\n",
       "    </tr>\n",
       "  </thead>\n",
       "  <tbody>\n",
       "    <tr>\n",
       "      <th>0</th>\n",
       "      <td>m7sdxge</td>\n",
       "      <td>1</td>\n",
       "      <td>There goes $18</td>\n",
       "      <td>PublicFreakout</td>\n",
       "      <td>2025-01-18 11:44:54</td>\n",
       "      <td>1i3zgv5</td>\n",
       "      <td>MangoMelts</td>\n",
       "      <td>0</td>\n",
       "      <td>1</td>\n",
       "      <td>0</td>\n",
       "      <td>...</td>\n",
       "      <td>1844.0</td>\n",
       "      <td>623.0</td>\n",
       "      <td>2467.0</td>\n",
       "      <td>210</td>\n",
       "      <td>We all know: Beer plays outfield only.</td>\n",
       "      <td>Never let your beer play catcher.</td>\n",
       "      <td>0.86</td>\n",
       "      <td>210</td>\n",
       "      <td>0</td>\n",
       "      <td>2025-01-18 04:18:17</td>\n",
       "    </tr>\n",
       "    <tr>\n",
       "      <th>1</th>\n",
       "      <td>m7sdv1h</td>\n",
       "      <td>1</td>\n",
       "      <td>It wasn’t even a Muslim ban you hyperbolic pus...</td>\n",
       "      <td>worldnews</td>\n",
       "      <td>2025-01-18 11:44:16</td>\n",
       "      <td>1i40ary</td>\n",
       "      <td>NL_A</td>\n",
       "      <td>0</td>\n",
       "      <td>1</td>\n",
       "      <td>0</td>\n",
       "      <td>...</td>\n",
       "      <td>15.0</td>\n",
       "      <td>469.0</td>\n",
       "      <td>484.0</td>\n",
       "      <td>335</td>\n",
       "      <td>NaN</td>\n",
       "      <td>Netanyahu: Trump fully backs Israel returning ...</td>\n",
       "      <td>0.86</td>\n",
       "      <td>335</td>\n",
       "      <td>0</td>\n",
       "      <td>2025-01-18 05:08:53</td>\n",
       "    </tr>\n",
       "    <tr>\n",
       "      <th>2</th>\n",
       "      <td>m7sduj1</td>\n",
       "      <td>1</td>\n",
       "      <td>He couldn't of said this before the election?</td>\n",
       "      <td>worldnewsvideo</td>\n",
       "      <td>2025-01-18 11:44:08</td>\n",
       "      <td>1i3n9f5</td>\n",
       "      <td>ilostmyeraser</td>\n",
       "      <td>0</td>\n",
       "      <td>1</td>\n",
       "      <td>0</td>\n",
       "      <td>...</td>\n",
       "      <td>17.0</td>\n",
       "      <td>2621.0</td>\n",
       "      <td>2660.0</td>\n",
       "      <td>883</td>\n",
       "      <td>NaN</td>\n",
       "      <td>Biden admits netanyahu had every intention to ...</td>\n",
       "      <td>0.96</td>\n",
       "      <td>883</td>\n",
       "      <td>0</td>\n",
       "      <td>2025-01-17 18:34:42</td>\n",
       "    </tr>\n",
       "    <tr>\n",
       "      <th>3</th>\n",
       "      <td>m7sdqy3</td>\n",
       "      <td>1</td>\n",
       "      <td>Looks like he picked the wrong week to quit sn...</td>\n",
       "      <td>CombatFootage</td>\n",
       "      <td>2025-01-18 11:43:12</td>\n",
       "      <td>1i3ux9v</td>\n",
       "      <td>du-werk</td>\n",
       "      <td>0</td>\n",
       "      <td>1</td>\n",
       "      <td>0</td>\n",
       "      <td>...</td>\n",
       "      <td>602.0</td>\n",
       "      <td>1786.0</td>\n",
       "      <td>2396.0</td>\n",
       "      <td>2162</td>\n",
       "      <td>NaN</td>\n",
       "      <td>Archival footage of the self destruction of Ru...</td>\n",
       "      <td>0.97</td>\n",
       "      <td>2162</td>\n",
       "      <td>0</td>\n",
       "      <td>2025-01-18 00:16:43</td>\n",
       "    </tr>\n",
       "    <tr>\n",
       "      <th>4</th>\n",
       "      <td>m7sdqak</td>\n",
       "      <td>1</td>\n",
       "      <td>Cabinets and coalition governments are like th...</td>\n",
       "      <td>worldnews</td>\n",
       "      <td>2025-01-18 11:43:02</td>\n",
       "      <td>1i40ary</td>\n",
       "      <td>treeboy009</td>\n",
       "      <td>0</td>\n",
       "      <td>1</td>\n",
       "      <td>0</td>\n",
       "      <td>...</td>\n",
       "      <td>1360.0</td>\n",
       "      <td>22673.0</td>\n",
       "      <td>24073.0</td>\n",
       "      <td>335</td>\n",
       "      <td>NaN</td>\n",
       "      <td>Netanyahu: Trump fully backs Israel returning ...</td>\n",
       "      <td>0.86</td>\n",
       "      <td>335</td>\n",
       "      <td>0</td>\n",
       "      <td>2025-01-18 05:08:53</td>\n",
       "    </tr>\n",
       "  </tbody>\n",
       "</table>\n",
       "<p>5 rows × 24 columns</p>\n",
       "</div>"
      ],
      "text/plain": [
       "  comment_id  score                                          self_text  \\\n",
       "0    m7sdxge      1                                     There goes $18   \n",
       "1    m7sdv1h      1  It wasn’t even a Muslim ban you hyperbolic pus...   \n",
       "2    m7sduj1      1      He couldn't of said this before the election?   \n",
       "3    m7sdqy3      1  Looks like he picked the wrong week to quit sn...   \n",
       "4    m7sdqak      1  Cabinets and coalition governments are like th...   \n",
       "\n",
       "        subreddit         created_time  post_id    author_name  \\\n",
       "0  PublicFreakout  2025-01-18 11:44:54  1i3zgv5     MangoMelts   \n",
       "1       worldnews  2025-01-18 11:44:16  1i40ary           NL_A   \n",
       "2  worldnewsvideo  2025-01-18 11:44:08  1i3n9f5  ilostmyeraser   \n",
       "3   CombatFootage  2025-01-18 11:43:12  1i3ux9v        du-werk   \n",
       "4       worldnews  2025-01-18 11:43:02  1i40ary     treeboy009   \n",
       "\n",
       "   controversiality  ups  downs  ...  user_link_karma user_comment_karma  \\\n",
       "0                 0    1      0  ...           1844.0              623.0   \n",
       "1                 0    1      0  ...             15.0              469.0   \n",
       "2                 0    1      0  ...             17.0             2621.0   \n",
       "3                 0    1      0  ...            602.0             1786.0   \n",
       "4                 0    1      0  ...           1360.0            22673.0   \n",
       "\n",
       "   user_total_karma  post_score                           post_self_text  \\\n",
       "0            2467.0         210  We all know: Beer plays outfield only.    \n",
       "1             484.0         335                                      NaN   \n",
       "2            2660.0         883                                      NaN   \n",
       "3            2396.0        2162                                      NaN   \n",
       "4           24073.0         335                                      NaN   \n",
       "\n",
       "                                          post_title  post_upvote_ratio  \\\n",
       "0                 Never let your beer play catcher.                0.86   \n",
       "1  Netanyahu: Trump fully backs Israel returning ...               0.86   \n",
       "2  Biden admits netanyahu had every intention to ...               0.96   \n",
       "3  Archival footage of the self destruction of Ru...               0.97   \n",
       "4  Netanyahu: Trump fully backs Israel returning ...               0.86   \n",
       "\n",
       "   post_thumbs_ups post_total_awards_received    post_created_time  \n",
       "0              210                          0  2025-01-18 04:18:17  \n",
       "1              335                          0  2025-01-18 05:08:53  \n",
       "2              883                          0  2025-01-17 18:34:42  \n",
       "3             2162                          0  2025-01-18 00:16:43  \n",
       "4              335                          0  2025-01-18 05:08:53  \n",
       "\n",
       "[5 rows x 24 columns]"
      ]
     },
     "execution_count": 8,
     "metadata": {},
     "output_type": "execute_result"
    }
   ],
   "source": [
    "# Creat an expectation suite\n",
    "expectation_suite_name = 'expectation-dim-post'\n",
    "context.add_or_update_expectation_suite(expectation_suite_name)\n",
    "\n",
    "# Create a validator using above expectation suite\n",
    "validator = context.get_validator(\n",
    "    batch_request = batch_request,\n",
    "    expectation_suite_name = expectation_suite_name\n",
    ")\n",
    "\n",
    "# Check the validator\n",
    "validator.head()"
   ]
  },
  {
   "cell_type": "code",
   "execution_count": 9,
   "metadata": {},
   "outputs": [
    {
     "data": {
      "application/vnd.jupyter.widget-view+json": {
       "model_id": "0ff9983ed39b49ae8ad6905123cda791",
       "version_major": 2,
       "version_minor": 0
      },
      "text/plain": [
       "Calculating Metrics:   0%|          | 0/6 [00:00<?, ?it/s]"
      ]
     },
     "metadata": {},
     "output_type": "display_data"
    },
    {
     "data": {
      "text/plain": [
       "{\n",
       "  \"success\": true,\n",
       "  \"result\": {\n",
       "    \"element_count\": 2346049,\n",
       "    \"unexpected_count\": 0,\n",
       "    \"unexpected_percent\": 0.0,\n",
       "    \"partial_unexpected_list\": []\n",
       "  },\n",
       "  \"meta\": {},\n",
       "  \"exception_info\": {\n",
       "    \"raised_exception\": false,\n",
       "    \"exception_traceback\": null,\n",
       "    \"exception_message\": null\n",
       "  }\n",
       "}"
      ]
     },
     "execution_count": 9,
     "metadata": {},
     "output_type": "execute_result"
    }
   ],
   "source": [
    "# Validasi untuk memastikan kolom 'post_id' tidak boleh null\n",
    "validator.expect_column_values_to_not_be_null('post_id')"
   ]
  },
  {
   "cell_type": "code",
   "execution_count": 10,
   "metadata": {},
   "outputs": [
    {
     "data": {
      "application/vnd.jupyter.widget-view+json": {
       "model_id": "2529ef8e6a374d55af41852188f715c9",
       "version_major": 2,
       "version_minor": 0
      },
      "text/plain": [
       "Calculating Metrics:   0%|          | 0/1 [00:00<?, ?it/s]"
      ]
     },
     "metadata": {},
     "output_type": "display_data"
    },
    {
     "data": {
      "text/plain": [
       "{\n",
       "  \"success\": false,\n",
       "  \"result\": {\n",
       "    \"observed_value\": \"int64\"\n",
       "  },\n",
       "  \"meta\": {},\n",
       "  \"exception_info\": {\n",
       "    \"raised_exception\": false,\n",
       "    \"exception_traceback\": null,\n",
       "    \"exception_message\": null\n",
       "  }\n",
       "}"
      ]
     },
     "execution_count": 10,
     "metadata": {},
     "output_type": "execute_result"
    }
   ],
   "source": [
    "# Validasi untuk memastikan kolom 'post_score' harus berupa integer\n",
    "validator.expect_column_values_to_be_of_type('post_score', 'int')"
   ]
  },
  {
   "cell_type": "code",
   "execution_count": 11,
   "metadata": {},
   "outputs": [
    {
     "data": {
      "application/vnd.jupyter.widget-view+json": {
       "model_id": "b38cf0afc4eb4ae58c55980b0cc2c986",
       "version_major": 2,
       "version_minor": 0
      },
      "text/plain": [
       "Calculating Metrics:   0%|          | 0/6 [00:00<?, ?it/s]"
      ]
     },
     "metadata": {},
     "output_type": "display_data"
    },
    {
     "data": {
      "text/plain": [
       "{\n",
       "  \"success\": true,\n",
       "  \"result\": {\n",
       "    \"element_count\": 2346049,\n",
       "    \"unexpected_count\": 0,\n",
       "    \"unexpected_percent\": 0.0,\n",
       "    \"partial_unexpected_list\": []\n",
       "  },\n",
       "  \"meta\": {},\n",
       "  \"exception_info\": {\n",
       "    \"raised_exception\": false,\n",
       "    \"exception_traceback\": null,\n",
       "    \"exception_message\": null\n",
       "  }\n",
       "}"
      ]
     },
     "execution_count": 11,
     "metadata": {},
     "output_type": "execute_result"
    }
   ],
   "source": [
    "# Validasi untuk memastikan kolom 'post_title' tidak boleh kosong\n",
    "validator.expect_column_values_to_not_be_null('post_title')"
   ]
  },
  {
   "cell_type": "code",
   "execution_count": 12,
   "metadata": {},
   "outputs": [
    {
     "data": {
      "application/vnd.jupyter.widget-view+json": {
       "model_id": "f288ca2b25644a3587e6c75fcbcf99e8",
       "version_major": 2,
       "version_minor": 0
      },
      "text/plain": [
       "Calculating Metrics:   0%|          | 0/1 [00:00<?, ?it/s]"
      ]
     },
     "metadata": {},
     "output_type": "display_data"
    },
    {
     "data": {
      "text/plain": [
       "{\n",
       "  \"success\": true,\n",
       "  \"result\": {\n",
       "    \"observed_value\": \"float64\"\n",
       "  },\n",
       "  \"meta\": {},\n",
       "  \"exception_info\": {\n",
       "    \"raised_exception\": false,\n",
       "    \"exception_traceback\": null,\n",
       "    \"exception_message\": null\n",
       "  }\n",
       "}"
      ]
     },
     "execution_count": 12,
     "metadata": {},
     "output_type": "execute_result"
    }
   ],
   "source": [
    "# Validasi untuk memastikan kolom 'post_upvote_ratio' harus berupa float atau int\n",
    "validator.expect_column_values_to_be_in_type_list('post_upvote_ratio', ['float', 'int'])"
   ]
  },
  {
   "cell_type": "code",
   "execution_count": 13,
   "metadata": {},
   "outputs": [
    {
     "data": {
      "application/vnd.jupyter.widget-view+json": {
       "model_id": "6f9a3c85900946d583837f7d9133d9da",
       "version_major": 2,
       "version_minor": 0
      },
      "text/plain": [
       "Calculating Metrics:   0%|          | 0/1 [00:00<?, ?it/s]"
      ]
     },
     "metadata": {},
     "output_type": "display_data"
    },
    {
     "data": {
      "text/plain": [
       "{\n",
       "  \"success\": false,\n",
       "  \"result\": {\n",
       "    \"observed_value\": \"int64\"\n",
       "  },\n",
       "  \"meta\": {},\n",
       "  \"exception_info\": {\n",
       "    \"raised_exception\": false,\n",
       "    \"exception_traceback\": null,\n",
       "    \"exception_message\": null\n",
       "  }\n",
       "}"
      ]
     },
     "execution_count": 13,
     "metadata": {},
     "output_type": "execute_result"
    }
   ],
   "source": [
    "# Validasi untuk memastikan kolom 'post_thumbs_ups' harus berupa integer\n",
    "validator.expect_column_values_to_be_of_type('post_thumbs_ups', 'int')"
   ]
  },
  {
   "cell_type": "code",
   "execution_count": 14,
   "metadata": {},
   "outputs": [
    {
     "data": {
      "application/vnd.jupyter.widget-view+json": {
       "model_id": "08a7f5dfd1314dd4a87279e20e5cdf99",
       "version_major": 2,
       "version_minor": 0
      },
      "text/plain": [
       "Calculating Metrics:   0%|          | 0/1 [00:00<?, ?it/s]"
      ]
     },
     "metadata": {},
     "output_type": "display_data"
    },
    {
     "data": {
      "text/plain": [
       "{\n",
       "  \"success\": false,\n",
       "  \"result\": {\n",
       "    \"observed_value\": \"int64\"\n",
       "  },\n",
       "  \"meta\": {},\n",
       "  \"exception_info\": {\n",
       "    \"raised_exception\": false,\n",
       "    \"exception_traceback\": null,\n",
       "    \"exception_message\": null\n",
       "  }\n",
       "}"
      ]
     },
     "execution_count": 14,
     "metadata": {},
     "output_type": "execute_result"
    }
   ],
   "source": [
    "# Validasi untuk memastikan kolom 'post_total_awards_received' harus berupa integer\n",
    "validator.expect_column_values_to_be_of_type('post_total_awards_received', 'int')"
   ]
  },
  {
   "cell_type": "code",
   "execution_count": 15,
   "metadata": {},
   "outputs": [
    {
     "data": {
      "application/vnd.jupyter.widget-view+json": {
       "model_id": "2e90363c48574ee295b57e63d94f3299",
       "version_major": 2,
       "version_minor": 0
      },
      "text/plain": [
       "Calculating Metrics:   0%|          | 0/8 [00:00<?, ?it/s]"
      ]
     },
     "metadata": {},
     "output_type": "display_data"
    },
    {
     "data": {
      "text/plain": [
       "{\n",
       "  \"success\": false,\n",
       "  \"result\": {\n",
       "    \"element_count\": 2346049,\n",
       "    \"unexpected_count\": 2346049,\n",
       "    \"unexpected_percent\": 100.0,\n",
       "    \"partial_unexpected_list\": [\n",
       "      \"2025-01-18 04:18:17\",\n",
       "      \"2025-01-18 05:08:53\",\n",
       "      \"2025-01-17 18:34:42\",\n",
       "      \"2025-01-18 00:16:43\",\n",
       "      \"2025-01-18 05:08:53\",\n",
       "      \"2025-01-18 07:02:36\",\n",
       "      \"2025-01-18 07:02:36\",\n",
       "      \"2025-01-18 07:02:36\",\n",
       "      \"2025-01-18 05:08:53\",\n",
       "      \"2025-01-18 05:08:53\",\n",
       "      \"2025-01-17 20:11:58\",\n",
       "      \"2025-01-18 07:11:47\",\n",
       "      \"2025-01-18 07:02:36\",\n",
       "      \"2025-01-18 05:08:53\",\n",
       "      \"2025-01-18 07:02:36\",\n",
       "      \"2025-01-17 18:36:43\",\n",
       "      \"2025-01-17 18:34:42\",\n",
       "      \"2025-01-18 05:08:53\",\n",
       "      \"2025-01-18 05:08:53\",\n",
       "      \"2025-01-17 21:30:43\"\n",
       "    ],\n",
       "    \"missing_count\": 0,\n",
       "    \"missing_percent\": 0.0,\n",
       "    \"unexpected_percent_total\": 100.0,\n",
       "    \"unexpected_percent_nonmissing\": 100.0\n",
       "  },\n",
       "  \"meta\": {},\n",
       "  \"exception_info\": {\n",
       "    \"raised_exception\": false,\n",
       "    \"exception_traceback\": null,\n",
       "    \"exception_message\": null\n",
       "  }\n",
       "}"
      ]
     },
     "execution_count": 15,
     "metadata": {},
     "output_type": "execute_result"
    }
   ],
   "source": [
    "# Validasi untuk memastikan kolom 'post_created_time' harus berupa datetime\n",
    "validator.expect_column_values_to_be_of_type('post_created_time', 'datetime')"
   ]
  },
  {
   "cell_type": "code",
   "execution_count": 16,
   "metadata": {},
   "outputs": [],
   "source": [
    "# # Validasi untuk memastikan kolom 'month_year' adalah foreign key dan tidak null\n",
    "# validator.expect_column_values_to_not_be_null('month_year')"
   ]
  },
  {
   "cell_type": "markdown",
   "metadata": {},
   "source": [
    "# Dim User"
   ]
  },
  {
   "cell_type": "code",
   "execution_count": 17,
   "metadata": {},
   "outputs": [
    {
     "data": {
      "application/vnd.jupyter.widget-view+json": {
       "model_id": "40883f0a413345cc8cb7290d63fefde0",
       "version_major": 2,
       "version_minor": 0
      },
      "text/plain": [
       "Calculating Metrics:   0%|          | 0/1 [00:00<?, ?it/s]"
      ]
     },
     "metadata": {},
     "output_type": "display_data"
    },
    {
     "data": {
      "text/html": [
       "<div>\n",
       "<style scoped>\n",
       "    .dataframe tbody tr th:only-of-type {\n",
       "        vertical-align: middle;\n",
       "    }\n",
       "\n",
       "    .dataframe tbody tr th {\n",
       "        vertical-align: top;\n",
       "    }\n",
       "\n",
       "    .dataframe thead th {\n",
       "        text-align: right;\n",
       "    }\n",
       "</style>\n",
       "<table border=\"1\" class=\"dataframe\">\n",
       "  <thead>\n",
       "    <tr style=\"text-align: right;\">\n",
       "      <th></th>\n",
       "      <th>comment_id</th>\n",
       "      <th>score</th>\n",
       "      <th>self_text</th>\n",
       "      <th>subreddit</th>\n",
       "      <th>created_time</th>\n",
       "      <th>post_id</th>\n",
       "      <th>author_name</th>\n",
       "      <th>controversiality</th>\n",
       "      <th>ups</th>\n",
       "      <th>downs</th>\n",
       "      <th>...</th>\n",
       "      <th>user_link_karma</th>\n",
       "      <th>user_comment_karma</th>\n",
       "      <th>user_total_karma</th>\n",
       "      <th>post_score</th>\n",
       "      <th>post_self_text</th>\n",
       "      <th>post_title</th>\n",
       "      <th>post_upvote_ratio</th>\n",
       "      <th>post_thumbs_ups</th>\n",
       "      <th>post_total_awards_received</th>\n",
       "      <th>post_created_time</th>\n",
       "    </tr>\n",
       "  </thead>\n",
       "  <tbody>\n",
       "    <tr>\n",
       "      <th>0</th>\n",
       "      <td>m7sdxge</td>\n",
       "      <td>1</td>\n",
       "      <td>There goes $18</td>\n",
       "      <td>PublicFreakout</td>\n",
       "      <td>2025-01-18 11:44:54</td>\n",
       "      <td>1i3zgv5</td>\n",
       "      <td>MangoMelts</td>\n",
       "      <td>0</td>\n",
       "      <td>1</td>\n",
       "      <td>0</td>\n",
       "      <td>...</td>\n",
       "      <td>1844.0</td>\n",
       "      <td>623.0</td>\n",
       "      <td>2467.0</td>\n",
       "      <td>210</td>\n",
       "      <td>We all know: Beer plays outfield only.</td>\n",
       "      <td>Never let your beer play catcher.</td>\n",
       "      <td>0.86</td>\n",
       "      <td>210</td>\n",
       "      <td>0</td>\n",
       "      <td>2025-01-18 04:18:17</td>\n",
       "    </tr>\n",
       "    <tr>\n",
       "      <th>1</th>\n",
       "      <td>m7sdv1h</td>\n",
       "      <td>1</td>\n",
       "      <td>It wasn’t even a Muslim ban you hyperbolic pus...</td>\n",
       "      <td>worldnews</td>\n",
       "      <td>2025-01-18 11:44:16</td>\n",
       "      <td>1i40ary</td>\n",
       "      <td>NL_A</td>\n",
       "      <td>0</td>\n",
       "      <td>1</td>\n",
       "      <td>0</td>\n",
       "      <td>...</td>\n",
       "      <td>15.0</td>\n",
       "      <td>469.0</td>\n",
       "      <td>484.0</td>\n",
       "      <td>335</td>\n",
       "      <td>NaN</td>\n",
       "      <td>Netanyahu: Trump fully backs Israel returning ...</td>\n",
       "      <td>0.86</td>\n",
       "      <td>335</td>\n",
       "      <td>0</td>\n",
       "      <td>2025-01-18 05:08:53</td>\n",
       "    </tr>\n",
       "    <tr>\n",
       "      <th>2</th>\n",
       "      <td>m7sduj1</td>\n",
       "      <td>1</td>\n",
       "      <td>He couldn't of said this before the election?</td>\n",
       "      <td>worldnewsvideo</td>\n",
       "      <td>2025-01-18 11:44:08</td>\n",
       "      <td>1i3n9f5</td>\n",
       "      <td>ilostmyeraser</td>\n",
       "      <td>0</td>\n",
       "      <td>1</td>\n",
       "      <td>0</td>\n",
       "      <td>...</td>\n",
       "      <td>17.0</td>\n",
       "      <td>2621.0</td>\n",
       "      <td>2660.0</td>\n",
       "      <td>883</td>\n",
       "      <td>NaN</td>\n",
       "      <td>Biden admits netanyahu had every intention to ...</td>\n",
       "      <td>0.96</td>\n",
       "      <td>883</td>\n",
       "      <td>0</td>\n",
       "      <td>2025-01-17 18:34:42</td>\n",
       "    </tr>\n",
       "    <tr>\n",
       "      <th>3</th>\n",
       "      <td>m7sdqy3</td>\n",
       "      <td>1</td>\n",
       "      <td>Looks like he picked the wrong week to quit sn...</td>\n",
       "      <td>CombatFootage</td>\n",
       "      <td>2025-01-18 11:43:12</td>\n",
       "      <td>1i3ux9v</td>\n",
       "      <td>du-werk</td>\n",
       "      <td>0</td>\n",
       "      <td>1</td>\n",
       "      <td>0</td>\n",
       "      <td>...</td>\n",
       "      <td>602.0</td>\n",
       "      <td>1786.0</td>\n",
       "      <td>2396.0</td>\n",
       "      <td>2162</td>\n",
       "      <td>NaN</td>\n",
       "      <td>Archival footage of the self destruction of Ru...</td>\n",
       "      <td>0.97</td>\n",
       "      <td>2162</td>\n",
       "      <td>0</td>\n",
       "      <td>2025-01-18 00:16:43</td>\n",
       "    </tr>\n",
       "    <tr>\n",
       "      <th>4</th>\n",
       "      <td>m7sdqak</td>\n",
       "      <td>1</td>\n",
       "      <td>Cabinets and coalition governments are like th...</td>\n",
       "      <td>worldnews</td>\n",
       "      <td>2025-01-18 11:43:02</td>\n",
       "      <td>1i40ary</td>\n",
       "      <td>treeboy009</td>\n",
       "      <td>0</td>\n",
       "      <td>1</td>\n",
       "      <td>0</td>\n",
       "      <td>...</td>\n",
       "      <td>1360.0</td>\n",
       "      <td>22673.0</td>\n",
       "      <td>24073.0</td>\n",
       "      <td>335</td>\n",
       "      <td>NaN</td>\n",
       "      <td>Netanyahu: Trump fully backs Israel returning ...</td>\n",
       "      <td>0.86</td>\n",
       "      <td>335</td>\n",
       "      <td>0</td>\n",
       "      <td>2025-01-18 05:08:53</td>\n",
       "    </tr>\n",
       "  </tbody>\n",
       "</table>\n",
       "<p>5 rows × 24 columns</p>\n",
       "</div>"
      ],
      "text/plain": [
       "  comment_id  score                                          self_text  \\\n",
       "0    m7sdxge      1                                     There goes $18   \n",
       "1    m7sdv1h      1  It wasn’t even a Muslim ban you hyperbolic pus...   \n",
       "2    m7sduj1      1      He couldn't of said this before the election?   \n",
       "3    m7sdqy3      1  Looks like he picked the wrong week to quit sn...   \n",
       "4    m7sdqak      1  Cabinets and coalition governments are like th...   \n",
       "\n",
       "        subreddit         created_time  post_id    author_name  \\\n",
       "0  PublicFreakout  2025-01-18 11:44:54  1i3zgv5     MangoMelts   \n",
       "1       worldnews  2025-01-18 11:44:16  1i40ary           NL_A   \n",
       "2  worldnewsvideo  2025-01-18 11:44:08  1i3n9f5  ilostmyeraser   \n",
       "3   CombatFootage  2025-01-18 11:43:12  1i3ux9v        du-werk   \n",
       "4       worldnews  2025-01-18 11:43:02  1i40ary     treeboy009   \n",
       "\n",
       "   controversiality  ups  downs  ...  user_link_karma user_comment_karma  \\\n",
       "0                 0    1      0  ...           1844.0              623.0   \n",
       "1                 0    1      0  ...             15.0              469.0   \n",
       "2                 0    1      0  ...             17.0             2621.0   \n",
       "3                 0    1      0  ...            602.0             1786.0   \n",
       "4                 0    1      0  ...           1360.0            22673.0   \n",
       "\n",
       "   user_total_karma  post_score                           post_self_text  \\\n",
       "0            2467.0         210  We all know: Beer plays outfield only.    \n",
       "1             484.0         335                                      NaN   \n",
       "2            2660.0         883                                      NaN   \n",
       "3            2396.0        2162                                      NaN   \n",
       "4           24073.0         335                                      NaN   \n",
       "\n",
       "                                          post_title  post_upvote_ratio  \\\n",
       "0                 Never let your beer play catcher.                0.86   \n",
       "1  Netanyahu: Trump fully backs Israel returning ...               0.86   \n",
       "2  Biden admits netanyahu had every intention to ...               0.96   \n",
       "3  Archival footage of the self destruction of Ru...               0.97   \n",
       "4  Netanyahu: Trump fully backs Israel returning ...               0.86   \n",
       "\n",
       "   post_thumbs_ups post_total_awards_received    post_created_time  \n",
       "0              210                          0  2025-01-18 04:18:17  \n",
       "1              335                          0  2025-01-18 05:08:53  \n",
       "2              883                          0  2025-01-17 18:34:42  \n",
       "3             2162                          0  2025-01-18 00:16:43  \n",
       "4              335                          0  2025-01-18 05:08:53  \n",
       "\n",
       "[5 rows x 24 columns]"
      ]
     },
     "execution_count": 17,
     "metadata": {},
     "output_type": "execute_result"
    }
   ],
   "source": [
    "# Creat an expectation suite\n",
    "expectation_suite_name = 'expectation-dim-user'\n",
    "context.add_or_update_expectation_suite(expectation_suite_name)\n",
    "\n",
    "# Create a validator using above expectation suite\n",
    "validator = context.get_validator(\n",
    "    batch_request = batch_request,\n",
    "    expectation_suite_name = expectation_suite_name\n",
    ")\n",
    "\n",
    "# Check the validator\n",
    "validator.head()"
   ]
  },
  {
   "cell_type": "code",
   "execution_count": 18,
   "metadata": {},
   "outputs": [
    {
     "data": {
      "application/vnd.jupyter.widget-view+json": {
       "model_id": "1e328fb7b2c4415a8cc74655d5032dfe",
       "version_major": 2,
       "version_minor": 0
      },
      "text/plain": [
       "Calculating Metrics:   0%|          | 0/6 [00:00<?, ?it/s]"
      ]
     },
     "metadata": {},
     "output_type": "display_data"
    },
    {
     "data": {
      "text/plain": [
       "{\n",
       "  \"success\": true,\n",
       "  \"result\": {\n",
       "    \"element_count\": 2346049,\n",
       "    \"unexpected_count\": 0,\n",
       "    \"unexpected_percent\": 0.0,\n",
       "    \"partial_unexpected_list\": []\n",
       "  },\n",
       "  \"meta\": {},\n",
       "  \"exception_info\": {\n",
       "    \"raised_exception\": false,\n",
       "    \"exception_traceback\": null,\n",
       "    \"exception_message\": null\n",
       "  }\n",
       "}"
      ]
     },
     "execution_count": 18,
     "metadata": {},
     "output_type": "execute_result"
    }
   ],
   "source": [
    "# Validasi untuk author_name (PK) -> Tidak boleh null\n",
    "validator.expect_column_values_to_not_be_null('author_name')"
   ]
  },
  {
   "cell_type": "code",
   "execution_count": 19,
   "metadata": {},
   "outputs": [
    {
     "data": {
      "application/vnd.jupyter.widget-view+json": {
       "model_id": "4bc43ed9c0644c178ce9abd1633d3edf",
       "version_major": 2,
       "version_minor": 0
      },
      "text/plain": [
       "Calculating Metrics:   0%|          | 0/8 [00:00<?, ?it/s]"
      ]
     },
     "metadata": {},
     "output_type": "display_data"
    },
    {
     "data": {
      "text/plain": [
       "{\n",
       "  \"success\": true,\n",
       "  \"result\": {\n",
       "    \"element_count\": 2346049,\n",
       "    \"unexpected_count\": 0,\n",
       "    \"unexpected_percent\": 0.0,\n",
       "    \"partial_unexpected_list\": [],\n",
       "    \"missing_count\": 0,\n",
       "    \"missing_percent\": 0.0,\n",
       "    \"unexpected_percent_total\": 0.0,\n",
       "    \"unexpected_percent_nonmissing\": 0.0\n",
       "  },\n",
       "  \"meta\": {},\n",
       "  \"exception_info\": {\n",
       "    \"raised_exception\": false,\n",
       "    \"exception_traceback\": null,\n",
       "    \"exception_message\": null\n",
       "  }\n",
       "}"
      ]
     },
     "execution_count": 19,
     "metadata": {},
     "output_type": "execute_result"
    }
   ],
   "source": [
    "# Validasi untuk user_is_verified -> Nilainya harus True atau False\n",
    "validator.expect_column_values_to_be_in_set('user_is_verified', [True, False])"
   ]
  },
  {
   "cell_type": "code",
   "execution_count": 20,
   "metadata": {},
   "outputs": [
    {
     "data": {
      "application/vnd.jupyter.widget-view+json": {
       "model_id": "939f258f36f74224adca8ffe2f48f001",
       "version_major": 2,
       "version_minor": 0
      },
      "text/plain": [
       "Calculating Metrics:   0%|          | 0/8 [00:00<?, ?it/s]"
      ]
     },
     "metadata": {},
     "output_type": "display_data"
    },
    {
     "data": {
      "text/plain": [
       "{\n",
       "  \"success\": true,\n",
       "  \"result\": {\n",
       "    \"element_count\": 2346049,\n",
       "    \"unexpected_count\": 0,\n",
       "    \"unexpected_percent\": 0.0,\n",
       "    \"partial_unexpected_list\": [],\n",
       "    \"missing_count\": 108443,\n",
       "    \"missing_percent\": 4.622367222508992,\n",
       "    \"unexpected_percent_total\": 0.0,\n",
       "    \"unexpected_percent_nonmissing\": 0.0\n",
       "  },\n",
       "  \"meta\": {},\n",
       "  \"exception_info\": {\n",
       "    \"raised_exception\": false,\n",
       "    \"exception_traceback\": null,\n",
       "    \"exception_message\": null\n",
       "  }\n",
       "}"
      ]
     },
     "execution_count": 20,
     "metadata": {},
     "output_type": "execute_result"
    }
   ],
   "source": [
    "# Validasi untuk user_account_created_time -> Harus datetime\n",
    "validator.expect_column_values_to_match_strftime_format(\n",
    "    'user_account_created_time', '%Y-%m-%d %H:%M:%S'  # Format datetime yang diharapkan\n",
    ")"
   ]
  },
  {
   "cell_type": "code",
   "execution_count": 21,
   "metadata": {},
   "outputs": [
    {
     "data": {
      "application/vnd.jupyter.widget-view+json": {
       "model_id": "f77d3d30fc2e4644b6cc9239cfb5c410",
       "version_major": 2,
       "version_minor": 0
      },
      "text/plain": [
       "Calculating Metrics:   0%|          | 0/6 [00:00<?, ?it/s]"
      ]
     },
     "metadata": {},
     "output_type": "display_data"
    },
    {
     "data": {
      "text/plain": [
       "{\n",
       "  \"success\": false,\n",
       "  \"result\": {\n",
       "    \"element_count\": 2346049,\n",
       "    \"unexpected_count\": 351,\n",
       "    \"unexpected_percent\": 0.014961324337215464,\n",
       "    \"partial_unexpected_list\": [\n",
       "      null,\n",
       "      null,\n",
       "      null,\n",
       "      null,\n",
       "      null,\n",
       "      null,\n",
       "      null,\n",
       "      null,\n",
       "      null,\n",
       "      null,\n",
       "      null,\n",
       "      null,\n",
       "      null,\n",
       "      null,\n",
       "      null,\n",
       "      null,\n",
       "      null,\n",
       "      null,\n",
       "      null,\n",
       "      null\n",
       "    ]\n",
       "  },\n",
       "  \"meta\": {},\n",
       "  \"exception_info\": {\n",
       "    \"raised_exception\": false,\n",
       "    \"exception_traceback\": null,\n",
       "    \"exception_message\": null\n",
       "  }\n",
       "}"
      ]
     },
     "execution_count": 21,
     "metadata": {},
     "output_type": "execute_result"
    }
   ],
   "source": [
    "# Validasi untuk user_awardee_karma -> Tidak boleh null\n",
    "validator.expect_column_values_to_not_be_null('user_awardee_karma')"
   ]
  },
  {
   "cell_type": "code",
   "execution_count": 22,
   "metadata": {},
   "outputs": [
    {
     "data": {
      "application/vnd.jupyter.widget-view+json": {
       "model_id": "f6a43d391d524581b58984afdc29aae7",
       "version_major": 2,
       "version_minor": 0
      },
      "text/plain": [
       "Calculating Metrics:   0%|          | 0/6 [00:00<?, ?it/s]"
      ]
     },
     "metadata": {},
     "output_type": "display_data"
    },
    {
     "data": {
      "text/plain": [
       "{\n",
       "  \"success\": false,\n",
       "  \"result\": {\n",
       "    \"element_count\": 2346049,\n",
       "    \"unexpected_count\": 351,\n",
       "    \"unexpected_percent\": 0.014961324337215464,\n",
       "    \"partial_unexpected_list\": [\n",
       "      null,\n",
       "      null,\n",
       "      null,\n",
       "      null,\n",
       "      null,\n",
       "      null,\n",
       "      null,\n",
       "      null,\n",
       "      null,\n",
       "      null,\n",
       "      null,\n",
       "      null,\n",
       "      null,\n",
       "      null,\n",
       "      null,\n",
       "      null,\n",
       "      null,\n",
       "      null,\n",
       "      null,\n",
       "      null\n",
       "    ]\n",
       "  },\n",
       "  \"meta\": {},\n",
       "  \"exception_info\": {\n",
       "    \"raised_exception\": false,\n",
       "    \"exception_traceback\": null,\n",
       "    \"exception_message\": null\n",
       "  }\n",
       "}"
      ]
     },
     "execution_count": 22,
     "metadata": {},
     "output_type": "execute_result"
    }
   ],
   "source": [
    "# Validasi untuk user_awarder_karma -> Tidak boleh null\n",
    "validator.expect_column_values_to_not_be_null('user_awarder_karma')"
   ]
  },
  {
   "cell_type": "code",
   "execution_count": 23,
   "metadata": {},
   "outputs": [
    {
     "data": {
      "application/vnd.jupyter.widget-view+json": {
       "model_id": "17a7b7fc2ea140fc96a72e40b254d404",
       "version_major": 2,
       "version_minor": 0
      },
      "text/plain": [
       "Calculating Metrics:   0%|          | 0/6 [00:00<?, ?it/s]"
      ]
     },
     "metadata": {},
     "output_type": "display_data"
    },
    {
     "data": {
      "text/plain": [
       "{\n",
       "  \"success\": false,\n",
       "  \"result\": {\n",
       "    \"element_count\": 2346049,\n",
       "    \"unexpected_count\": 351,\n",
       "    \"unexpected_percent\": 0.014961324337215464,\n",
       "    \"partial_unexpected_list\": [\n",
       "      null,\n",
       "      null,\n",
       "      null,\n",
       "      null,\n",
       "      null,\n",
       "      null,\n",
       "      null,\n",
       "      null,\n",
       "      null,\n",
       "      null,\n",
       "      null,\n",
       "      null,\n",
       "      null,\n",
       "      null,\n",
       "      null,\n",
       "      null,\n",
       "      null,\n",
       "      null,\n",
       "      null,\n",
       "      null\n",
       "    ]\n",
       "  },\n",
       "  \"meta\": {},\n",
       "  \"exception_info\": {\n",
       "    \"raised_exception\": false,\n",
       "    \"exception_traceback\": null,\n",
       "    \"exception_message\": null\n",
       "  }\n",
       "}"
      ]
     },
     "execution_count": 23,
     "metadata": {},
     "output_type": "execute_result"
    }
   ],
   "source": [
    "# Validasi untuk user_link_karma -> Tidak boleh null\n",
    "validator.expect_column_values_to_not_be_null('user_link_karma')"
   ]
  },
  {
   "cell_type": "code",
   "execution_count": 24,
   "metadata": {},
   "outputs": [
    {
     "data": {
      "application/vnd.jupyter.widget-view+json": {
       "model_id": "8d3f776caee34a25901215f958fbffb8",
       "version_major": 2,
       "version_minor": 0
      },
      "text/plain": [
       "Calculating Metrics:   0%|          | 0/6 [00:00<?, ?it/s]"
      ]
     },
     "metadata": {},
     "output_type": "display_data"
    },
    {
     "data": {
      "text/plain": [
       "{\n",
       "  \"success\": false,\n",
       "  \"result\": {\n",
       "    \"element_count\": 2346049,\n",
       "    \"unexpected_count\": 351,\n",
       "    \"unexpected_percent\": 0.014961324337215464,\n",
       "    \"partial_unexpected_list\": [\n",
       "      null,\n",
       "      null,\n",
       "      null,\n",
       "      null,\n",
       "      null,\n",
       "      null,\n",
       "      null,\n",
       "      null,\n",
       "      null,\n",
       "      null,\n",
       "      null,\n",
       "      null,\n",
       "      null,\n",
       "      null,\n",
       "      null,\n",
       "      null,\n",
       "      null,\n",
       "      null,\n",
       "      null,\n",
       "      null\n",
       "    ]\n",
       "  },\n",
       "  \"meta\": {},\n",
       "  \"exception_info\": {\n",
       "    \"raised_exception\": false,\n",
       "    \"exception_traceback\": null,\n",
       "    \"exception_message\": null\n",
       "  }\n",
       "}"
      ]
     },
     "execution_count": 24,
     "metadata": {},
     "output_type": "execute_result"
    }
   ],
   "source": [
    "# Validasi untuk user_comment_karma -> Tidak boleh null\n",
    "validator.expect_column_values_to_not_be_null('user_comment_karma')"
   ]
  },
  {
   "cell_type": "code",
   "execution_count": 25,
   "metadata": {},
   "outputs": [
    {
     "data": {
      "application/vnd.jupyter.widget-view+json": {
       "model_id": "3931fd1aa6ca4634bfc1cd10b9d342db",
       "version_major": 2,
       "version_minor": 0
      },
      "text/plain": [
       "Calculating Metrics:   0%|          | 0/6 [00:00<?, ?it/s]"
      ]
     },
     "metadata": {},
     "output_type": "display_data"
    },
    {
     "data": {
      "text/plain": [
       "{\n",
       "  \"success\": false,\n",
       "  \"result\": {\n",
       "    \"element_count\": 2346049,\n",
       "    \"unexpected_count\": 351,\n",
       "    \"unexpected_percent\": 0.014961324337215464,\n",
       "    \"partial_unexpected_list\": [\n",
       "      null,\n",
       "      null,\n",
       "      null,\n",
       "      null,\n",
       "      null,\n",
       "      null,\n",
       "      null,\n",
       "      null,\n",
       "      null,\n",
       "      null,\n",
       "      null,\n",
       "      null,\n",
       "      null,\n",
       "      null,\n",
       "      null,\n",
       "      null,\n",
       "      null,\n",
       "      null,\n",
       "      null,\n",
       "      null\n",
       "    ]\n",
       "  },\n",
       "  \"meta\": {},\n",
       "  \"exception_info\": {\n",
       "    \"raised_exception\": false,\n",
       "    \"exception_traceback\": null,\n",
       "    \"exception_message\": null\n",
       "  }\n",
       "}"
      ]
     },
     "execution_count": 25,
     "metadata": {},
     "output_type": "execute_result"
    }
   ],
   "source": [
    "# Validasi untuk user_total_karma -> Tidak boleh null\n",
    "validator.expect_column_values_to_not_be_null('user_total_karma')"
   ]
  },
  {
   "cell_type": "markdown",
   "metadata": {},
   "source": [
    "# Fact Comment"
   ]
  },
  {
   "cell_type": "code",
   "execution_count": 26,
   "metadata": {},
   "outputs": [
    {
     "data": {
      "application/vnd.jupyter.widget-view+json": {
       "model_id": "ff475f33f25742a69ce73d29de434957",
       "version_major": 2,
       "version_minor": 0
      },
      "text/plain": [
       "Calculating Metrics:   0%|          | 0/1 [00:00<?, ?it/s]"
      ]
     },
     "metadata": {},
     "output_type": "display_data"
    },
    {
     "data": {
      "text/html": [
       "<div>\n",
       "<style scoped>\n",
       "    .dataframe tbody tr th:only-of-type {\n",
       "        vertical-align: middle;\n",
       "    }\n",
       "\n",
       "    .dataframe tbody tr th {\n",
       "        vertical-align: top;\n",
       "    }\n",
       "\n",
       "    .dataframe thead th {\n",
       "        text-align: right;\n",
       "    }\n",
       "</style>\n",
       "<table border=\"1\" class=\"dataframe\">\n",
       "  <thead>\n",
       "    <tr style=\"text-align: right;\">\n",
       "      <th></th>\n",
       "      <th>comment_id</th>\n",
       "      <th>score</th>\n",
       "      <th>self_text</th>\n",
       "      <th>subreddit</th>\n",
       "      <th>created_time</th>\n",
       "      <th>post_id</th>\n",
       "      <th>author_name</th>\n",
       "      <th>controversiality</th>\n",
       "      <th>ups</th>\n",
       "      <th>downs</th>\n",
       "      <th>...</th>\n",
       "      <th>user_link_karma</th>\n",
       "      <th>user_comment_karma</th>\n",
       "      <th>user_total_karma</th>\n",
       "      <th>post_score</th>\n",
       "      <th>post_self_text</th>\n",
       "      <th>post_title</th>\n",
       "      <th>post_upvote_ratio</th>\n",
       "      <th>post_thumbs_ups</th>\n",
       "      <th>post_total_awards_received</th>\n",
       "      <th>post_created_time</th>\n",
       "    </tr>\n",
       "  </thead>\n",
       "  <tbody>\n",
       "    <tr>\n",
       "      <th>0</th>\n",
       "      <td>m7sdxge</td>\n",
       "      <td>1</td>\n",
       "      <td>There goes $18</td>\n",
       "      <td>PublicFreakout</td>\n",
       "      <td>2025-01-18 11:44:54</td>\n",
       "      <td>1i3zgv5</td>\n",
       "      <td>MangoMelts</td>\n",
       "      <td>0</td>\n",
       "      <td>1</td>\n",
       "      <td>0</td>\n",
       "      <td>...</td>\n",
       "      <td>1844.0</td>\n",
       "      <td>623.0</td>\n",
       "      <td>2467.0</td>\n",
       "      <td>210</td>\n",
       "      <td>We all know: Beer plays outfield only.</td>\n",
       "      <td>Never let your beer play catcher.</td>\n",
       "      <td>0.86</td>\n",
       "      <td>210</td>\n",
       "      <td>0</td>\n",
       "      <td>2025-01-18 04:18:17</td>\n",
       "    </tr>\n",
       "    <tr>\n",
       "      <th>1</th>\n",
       "      <td>m7sdv1h</td>\n",
       "      <td>1</td>\n",
       "      <td>It wasn’t even a Muslim ban you hyperbolic pus...</td>\n",
       "      <td>worldnews</td>\n",
       "      <td>2025-01-18 11:44:16</td>\n",
       "      <td>1i40ary</td>\n",
       "      <td>NL_A</td>\n",
       "      <td>0</td>\n",
       "      <td>1</td>\n",
       "      <td>0</td>\n",
       "      <td>...</td>\n",
       "      <td>15.0</td>\n",
       "      <td>469.0</td>\n",
       "      <td>484.0</td>\n",
       "      <td>335</td>\n",
       "      <td>NaN</td>\n",
       "      <td>Netanyahu: Trump fully backs Israel returning ...</td>\n",
       "      <td>0.86</td>\n",
       "      <td>335</td>\n",
       "      <td>0</td>\n",
       "      <td>2025-01-18 05:08:53</td>\n",
       "    </tr>\n",
       "    <tr>\n",
       "      <th>2</th>\n",
       "      <td>m7sduj1</td>\n",
       "      <td>1</td>\n",
       "      <td>He couldn't of said this before the election?</td>\n",
       "      <td>worldnewsvideo</td>\n",
       "      <td>2025-01-18 11:44:08</td>\n",
       "      <td>1i3n9f5</td>\n",
       "      <td>ilostmyeraser</td>\n",
       "      <td>0</td>\n",
       "      <td>1</td>\n",
       "      <td>0</td>\n",
       "      <td>...</td>\n",
       "      <td>17.0</td>\n",
       "      <td>2621.0</td>\n",
       "      <td>2660.0</td>\n",
       "      <td>883</td>\n",
       "      <td>NaN</td>\n",
       "      <td>Biden admits netanyahu had every intention to ...</td>\n",
       "      <td>0.96</td>\n",
       "      <td>883</td>\n",
       "      <td>0</td>\n",
       "      <td>2025-01-17 18:34:42</td>\n",
       "    </tr>\n",
       "    <tr>\n",
       "      <th>3</th>\n",
       "      <td>m7sdqy3</td>\n",
       "      <td>1</td>\n",
       "      <td>Looks like he picked the wrong week to quit sn...</td>\n",
       "      <td>CombatFootage</td>\n",
       "      <td>2025-01-18 11:43:12</td>\n",
       "      <td>1i3ux9v</td>\n",
       "      <td>du-werk</td>\n",
       "      <td>0</td>\n",
       "      <td>1</td>\n",
       "      <td>0</td>\n",
       "      <td>...</td>\n",
       "      <td>602.0</td>\n",
       "      <td>1786.0</td>\n",
       "      <td>2396.0</td>\n",
       "      <td>2162</td>\n",
       "      <td>NaN</td>\n",
       "      <td>Archival footage of the self destruction of Ru...</td>\n",
       "      <td>0.97</td>\n",
       "      <td>2162</td>\n",
       "      <td>0</td>\n",
       "      <td>2025-01-18 00:16:43</td>\n",
       "    </tr>\n",
       "    <tr>\n",
       "      <th>4</th>\n",
       "      <td>m7sdqak</td>\n",
       "      <td>1</td>\n",
       "      <td>Cabinets and coalition governments are like th...</td>\n",
       "      <td>worldnews</td>\n",
       "      <td>2025-01-18 11:43:02</td>\n",
       "      <td>1i40ary</td>\n",
       "      <td>treeboy009</td>\n",
       "      <td>0</td>\n",
       "      <td>1</td>\n",
       "      <td>0</td>\n",
       "      <td>...</td>\n",
       "      <td>1360.0</td>\n",
       "      <td>22673.0</td>\n",
       "      <td>24073.0</td>\n",
       "      <td>335</td>\n",
       "      <td>NaN</td>\n",
       "      <td>Netanyahu: Trump fully backs Israel returning ...</td>\n",
       "      <td>0.86</td>\n",
       "      <td>335</td>\n",
       "      <td>0</td>\n",
       "      <td>2025-01-18 05:08:53</td>\n",
       "    </tr>\n",
       "  </tbody>\n",
       "</table>\n",
       "<p>5 rows × 24 columns</p>\n",
       "</div>"
      ],
      "text/plain": [
       "  comment_id  score                                          self_text  \\\n",
       "0    m7sdxge      1                                     There goes $18   \n",
       "1    m7sdv1h      1  It wasn’t even a Muslim ban you hyperbolic pus...   \n",
       "2    m7sduj1      1      He couldn't of said this before the election?   \n",
       "3    m7sdqy3      1  Looks like he picked the wrong week to quit sn...   \n",
       "4    m7sdqak      1  Cabinets and coalition governments are like th...   \n",
       "\n",
       "        subreddit         created_time  post_id    author_name  \\\n",
       "0  PublicFreakout  2025-01-18 11:44:54  1i3zgv5     MangoMelts   \n",
       "1       worldnews  2025-01-18 11:44:16  1i40ary           NL_A   \n",
       "2  worldnewsvideo  2025-01-18 11:44:08  1i3n9f5  ilostmyeraser   \n",
       "3   CombatFootage  2025-01-18 11:43:12  1i3ux9v        du-werk   \n",
       "4       worldnews  2025-01-18 11:43:02  1i40ary     treeboy009   \n",
       "\n",
       "   controversiality  ups  downs  ...  user_link_karma user_comment_karma  \\\n",
       "0                 0    1      0  ...           1844.0              623.0   \n",
       "1                 0    1      0  ...             15.0              469.0   \n",
       "2                 0    1      0  ...             17.0             2621.0   \n",
       "3                 0    1      0  ...            602.0             1786.0   \n",
       "4                 0    1      0  ...           1360.0            22673.0   \n",
       "\n",
       "   user_total_karma  post_score                           post_self_text  \\\n",
       "0            2467.0         210  We all know: Beer plays outfield only.    \n",
       "1             484.0         335                                      NaN   \n",
       "2            2660.0         883                                      NaN   \n",
       "3            2396.0        2162                                      NaN   \n",
       "4           24073.0         335                                      NaN   \n",
       "\n",
       "                                          post_title  post_upvote_ratio  \\\n",
       "0                 Never let your beer play catcher.                0.86   \n",
       "1  Netanyahu: Trump fully backs Israel returning ...               0.86   \n",
       "2  Biden admits netanyahu had every intention to ...               0.96   \n",
       "3  Archival footage of the self destruction of Ru...               0.97   \n",
       "4  Netanyahu: Trump fully backs Israel returning ...               0.86   \n",
       "\n",
       "   post_thumbs_ups post_total_awards_received    post_created_time  \n",
       "0              210                          0  2025-01-18 04:18:17  \n",
       "1              335                          0  2025-01-18 05:08:53  \n",
       "2              883                          0  2025-01-17 18:34:42  \n",
       "3             2162                          0  2025-01-18 00:16:43  \n",
       "4              335                          0  2025-01-18 05:08:53  \n",
       "\n",
       "[5 rows x 24 columns]"
      ]
     },
     "execution_count": 26,
     "metadata": {},
     "output_type": "execute_result"
    }
   ],
   "source": [
    "# Creat an expectation suite\n",
    "expectation_suite_name = 'expectation-fact-comment'\n",
    "context.add_or_update_expectation_suite(expectation_suite_name)\n",
    "\n",
    "# Create a validator using above expectation suite\n",
    "validator = context.get_validator(\n",
    "    batch_request = batch_request,\n",
    "    expectation_suite_name = expectation_suite_name\n",
    ")\n",
    "\n",
    "# Check the validator\n",
    "validator.head()"
   ]
  },
  {
   "cell_type": "code",
   "execution_count": 27,
   "metadata": {},
   "outputs": [
    {
     "data": {
      "application/vnd.jupyter.widget-view+json": {
       "model_id": "1aad913eb165411d9cd198ec271423ac",
       "version_major": 2,
       "version_minor": 0
      },
      "text/plain": [
       "Calculating Metrics:   0%|          | 0/6 [00:00<?, ?it/s]"
      ]
     },
     "metadata": {},
     "output_type": "display_data"
    },
    {
     "data": {
      "text/plain": [
       "{\n",
       "  \"success\": true,\n",
       "  \"result\": {\n",
       "    \"element_count\": 2346049,\n",
       "    \"unexpected_count\": 0,\n",
       "    \"unexpected_percent\": 0.0,\n",
       "    \"partial_unexpected_list\": []\n",
       "  },\n",
       "  \"meta\": {},\n",
       "  \"exception_info\": {\n",
       "    \"raised_exception\": false,\n",
       "    \"exception_traceback\": null,\n",
       "    \"exception_message\": null\n",
       "  }\n",
       "}"
      ]
     },
     "execution_count": 27,
     "metadata": {},
     "output_type": "execute_result"
    }
   ],
   "source": [
    "# Validasi untuk comment_id (PK) -> Tidak boleh null\n",
    "validator.expect_column_values_to_not_be_null('comment_id')"
   ]
  },
  {
   "cell_type": "code",
   "execution_count": 28,
   "metadata": {},
   "outputs": [
    {
     "data": {
      "application/vnd.jupyter.widget-view+json": {
       "model_id": "c84785863573496c9f765f1a834e583e",
       "version_major": 2,
       "version_minor": 0
      },
      "text/plain": [
       "Calculating Metrics:   0%|          | 0/6 [00:00<?, ?it/s]"
      ]
     },
     "metadata": {},
     "output_type": "display_data"
    },
    {
     "data": {
      "text/plain": [
       "{\n",
       "  \"success\": false,\n",
       "  \"result\": {\n",
       "    \"element_count\": 2346049,\n",
       "    \"unexpected_count\": 11,\n",
       "    \"unexpected_percent\": 0.00046887341227740766,\n",
       "    \"partial_unexpected_list\": [\n",
       "      null,\n",
       "      null,\n",
       "      null,\n",
       "      null,\n",
       "      null,\n",
       "      null,\n",
       "      null,\n",
       "      null,\n",
       "      null,\n",
       "      null,\n",
       "      null\n",
       "    ]\n",
       "  },\n",
       "  \"meta\": {},\n",
       "  \"exception_info\": {\n",
       "    \"raised_exception\": false,\n",
       "    \"exception_traceback\": null,\n",
       "    \"exception_message\": null\n",
       "  }\n",
       "}"
      ]
     },
     "execution_count": 28,
     "metadata": {},
     "output_type": "execute_result"
    }
   ],
   "source": [
    "# Validasi untuk self_text -> Tidak boleh null\n",
    "validator.expect_column_values_to_not_be_null('self_text')"
   ]
  },
  {
   "cell_type": "code",
   "execution_count": 29,
   "metadata": {},
   "outputs": [
    {
     "data": {
      "application/vnd.jupyter.widget-view+json": {
       "model_id": "bc9637a7cd604f3ea4090cb7d397d435",
       "version_major": 2,
       "version_minor": 0
      },
      "text/plain": [
       "Calculating Metrics:   0%|          | 0/6 [00:00<?, ?it/s]"
      ]
     },
     "metadata": {},
     "output_type": "display_data"
    },
    {
     "data": {
      "text/plain": [
       "{\n",
       "  \"success\": true,\n",
       "  \"result\": {\n",
       "    \"element_count\": 2346049,\n",
       "    \"unexpected_count\": 0,\n",
       "    \"unexpected_percent\": 0.0,\n",
       "    \"partial_unexpected_list\": []\n",
       "  },\n",
       "  \"meta\": {},\n",
       "  \"exception_info\": {\n",
       "    \"raised_exception\": false,\n",
       "    \"exception_traceback\": null,\n",
       "    \"exception_message\": null\n",
       "  }\n",
       "}"
      ]
     },
     "execution_count": 29,
     "metadata": {},
     "output_type": "execute_result"
    }
   ],
   "source": [
    "# Validasi untuk subreddit -> Tidak boleh null\n",
    "validator.expect_column_values_to_not_be_null('subreddit')"
   ]
  },
  {
   "cell_type": "code",
   "execution_count": 30,
   "metadata": {},
   "outputs": [
    {
     "data": {
      "application/vnd.jupyter.widget-view+json": {
       "model_id": "73e96b7c0ab847698d881ba66aea914f",
       "version_major": 2,
       "version_minor": 0
      },
      "text/plain": [
       "Calculating Metrics:   0%|          | 0/6 [00:00<?, ?it/s]"
      ]
     },
     "metadata": {},
     "output_type": "display_data"
    },
    {
     "data": {
      "application/vnd.jupyter.widget-view+json": {
       "model_id": "81bd2988ee5d4cf4befd20563ac543fd",
       "version_major": 2,
       "version_minor": 0
      },
      "text/plain": [
       "Calculating Metrics:   0%|          | 0/8 [00:00<?, ?it/s]"
      ]
     },
     "metadata": {},
     "output_type": "display_data"
    },
    {
     "data": {
      "text/plain": [
       "{\n",
       "  \"success\": true,\n",
       "  \"result\": {\n",
       "    \"element_count\": 2346049,\n",
       "    \"unexpected_count\": 0,\n",
       "    \"unexpected_percent\": 0.0,\n",
       "    \"partial_unexpected_list\": [],\n",
       "    \"missing_count\": 0,\n",
       "    \"missing_percent\": 0.0,\n",
       "    \"unexpected_percent_total\": 0.0,\n",
       "    \"unexpected_percent_nonmissing\": 0.0\n",
       "  },\n",
       "  \"meta\": {},\n",
       "  \"exception_info\": {\n",
       "    \"raised_exception\": false,\n",
       "    \"exception_traceback\": null,\n",
       "    \"exception_message\": null\n",
       "  }\n",
       "}"
      ]
     },
     "execution_count": 30,
     "metadata": {},
     "output_type": "execute_result"
    }
   ],
   "source": [
    "# Validasi untuk created_time (FK) -> Harus datetime dan tidak boleh null\n",
    "validator.expect_column_values_to_not_be_null('created_time')\n",
    "validator.expect_column_values_to_match_strftime_format(\n",
    "    'created_time', '%Y-%m-%d %H:%M:%S'  # Format datetime yang diharapkan\n",
    ")"
   ]
  },
  {
   "cell_type": "code",
   "execution_count": 31,
   "metadata": {},
   "outputs": [
    {
     "data": {
      "application/vnd.jupyter.widget-view+json": {
       "model_id": "52a2869b592b4a28b312050aff931b19",
       "version_major": 2,
       "version_minor": 0
      },
      "text/plain": [
       "Calculating Metrics:   0%|          | 0/6 [00:00<?, ?it/s]"
      ]
     },
     "metadata": {},
     "output_type": "display_data"
    },
    {
     "data": {
      "text/plain": [
       "{\n",
       "  \"success\": true,\n",
       "  \"result\": {\n",
       "    \"element_count\": 2346049,\n",
       "    \"unexpected_count\": 0,\n",
       "    \"unexpected_percent\": 0.0,\n",
       "    \"partial_unexpected_list\": []\n",
       "  },\n",
       "  \"meta\": {},\n",
       "  \"exception_info\": {\n",
       "    \"raised_exception\": false,\n",
       "    \"exception_traceback\": null,\n",
       "    \"exception_message\": null\n",
       "  }\n",
       "}"
      ]
     },
     "execution_count": 31,
     "metadata": {},
     "output_type": "execute_result"
    }
   ],
   "source": [
    "# Validasi untuk author_name (FK) -> Tidak boleh null\n",
    "validator.expect_column_values_to_not_be_null('author_name')"
   ]
  },
  {
   "cell_type": "code",
   "execution_count": 32,
   "metadata": {},
   "outputs": [
    {
     "data": {
      "application/vnd.jupyter.widget-view+json": {
       "model_id": "f8f3847066154804b6c50da68c91dd96",
       "version_major": 2,
       "version_minor": 0
      },
      "text/plain": [
       "Calculating Metrics:   0%|          | 0/6 [00:00<?, ?it/s]"
      ]
     },
     "metadata": {},
     "output_type": "display_data"
    },
    {
     "data": {
      "text/plain": [
       "{\n",
       "  \"success\": true,\n",
       "  \"result\": {\n",
       "    \"element_count\": 2346049,\n",
       "    \"unexpected_count\": 0,\n",
       "    \"unexpected_percent\": 0.0,\n",
       "    \"partial_unexpected_list\": []\n",
       "  },\n",
       "  \"meta\": {},\n",
       "  \"exception_info\": {\n",
       "    \"raised_exception\": false,\n",
       "    \"exception_traceback\": null,\n",
       "    \"exception_message\": null\n",
       "  }\n",
       "}"
      ]
     },
     "execution_count": 32,
     "metadata": {},
     "output_type": "execute_result"
    }
   ],
   "source": [
    "# Validasi untuk post_id (FK) -> Tidak boleh null\n",
    "validator.expect_column_values_to_not_be_null('post_id')"
   ]
  },
  {
   "cell_type": "code",
   "execution_count": 33,
   "metadata": {},
   "outputs": [],
   "source": [
    "# # Validasi untuk sentiment_score -> Tidak boleh null\n",
    "# validator.expect_column_values_to_not_be_null('sentiment_score')"
   ]
  },
  {
   "cell_type": "code",
   "execution_count": 34,
   "metadata": {},
   "outputs": [],
   "source": [
    "# # Validasi untuk sentiment_label -> Tidak boleh null dan nilainya harus antara positive, negative, atau neutral\n",
    "# validator.expect_column_values_to_not_be_null('sentiment_label')\n",
    "# validator.expect_column_values_to_be_in_set('sentiment_label', ['positive', 'negative', 'neutral'])"
   ]
  },
  {
   "cell_type": "markdown",
   "metadata": {},
   "source": [
    "# Dim Date"
   ]
  },
  {
   "cell_type": "code",
   "execution_count": 35,
   "metadata": {},
   "outputs": [],
   "source": [
    "# Give a name to a Datasource. This name must be unique between Datasources.\n",
    "datasource_name = 'csv-data-date'\n",
    "datasource = context.sources.add_pandas(datasource_name)\n",
    "\n",
    "# Give a name to a data asset\n",
    "asset_name = 'date'\n",
    "path_to_data = 'date_df.csv'\n",
    "asset = datasource.add_csv_asset(asset_name, filepath_or_buffer=path_to_data)\n",
    "\n",
    "# Build batch request\n",
    "batch_request = asset.build_batch_request()"
   ]
  },
  {
   "cell_type": "code",
   "execution_count": 36,
   "metadata": {},
   "outputs": [
    {
     "data": {
      "application/vnd.jupyter.widget-view+json": {
       "model_id": "cc5e67ce77b84cc8908c588ca0728129",
       "version_major": 2,
       "version_minor": 0
      },
      "text/plain": [
       "Calculating Metrics:   0%|          | 0/1 [00:00<?, ?it/s]"
      ]
     },
     "metadata": {},
     "output_type": "display_data"
    },
    {
     "data": {
      "text/html": [
       "<div>\n",
       "<style scoped>\n",
       "    .dataframe tbody tr th:only-of-type {\n",
       "        vertical-align: middle;\n",
       "    }\n",
       "\n",
       "    .dataframe tbody tr th {\n",
       "        vertical-align: top;\n",
       "    }\n",
       "\n",
       "    .dataframe thead th {\n",
       "        text-align: right;\n",
       "    }\n",
       "</style>\n",
       "<table border=\"1\" class=\"dataframe\">\n",
       "  <thead>\n",
       "    <tr style=\"text-align: right;\">\n",
       "      <th></th>\n",
       "      <th>date</th>\n",
       "      <th>month</th>\n",
       "      <th>year</th>\n",
       "      <th>month_year</th>\n",
       "    </tr>\n",
       "  </thead>\n",
       "  <tbody>\n",
       "    <tr>\n",
       "      <th>0</th>\n",
       "      <td>2016-01-01</td>\n",
       "      <td>1</td>\n",
       "      <td>2016</td>\n",
       "      <td>01-2016</td>\n",
       "    </tr>\n",
       "    <tr>\n",
       "      <th>1</th>\n",
       "      <td>2016-01-02</td>\n",
       "      <td>1</td>\n",
       "      <td>2016</td>\n",
       "      <td>01-2016</td>\n",
       "    </tr>\n",
       "    <tr>\n",
       "      <th>2</th>\n",
       "      <td>2016-01-03</td>\n",
       "      <td>1</td>\n",
       "      <td>2016</td>\n",
       "      <td>01-2016</td>\n",
       "    </tr>\n",
       "    <tr>\n",
       "      <th>3</th>\n",
       "      <td>2016-01-04</td>\n",
       "      <td>1</td>\n",
       "      <td>2016</td>\n",
       "      <td>01-2016</td>\n",
       "    </tr>\n",
       "    <tr>\n",
       "      <th>4</th>\n",
       "      <td>2016-01-05</td>\n",
       "      <td>1</td>\n",
       "      <td>2016</td>\n",
       "      <td>01-2016</td>\n",
       "    </tr>\n",
       "  </tbody>\n",
       "</table>\n",
       "</div>"
      ],
      "text/plain": [
       "         date  month  year month_year\n",
       "0  2016-01-01      1  2016    01-2016\n",
       "1  2016-01-02      1  2016    01-2016\n",
       "2  2016-01-03      1  2016    01-2016\n",
       "3  2016-01-04      1  2016    01-2016\n",
       "4  2016-01-05      1  2016    01-2016"
      ]
     },
     "execution_count": 36,
     "metadata": {},
     "output_type": "execute_result"
    }
   ],
   "source": [
    "# Creat an expectation suite\n",
    "expectation_suite_name = 'expectation-dim-date'\n",
    "context.add_or_update_expectation_suite(expectation_suite_name)\n",
    "\n",
    "# Create a validator using above expectation suite\n",
    "validator = context.get_validator(\n",
    "    batch_request = batch_request,\n",
    "    expectation_suite_name = expectation_suite_name\n",
    ")\n",
    "\n",
    "# Check the validator\n",
    "validator.head()"
   ]
  },
  {
   "cell_type": "code",
   "execution_count": 37,
   "metadata": {},
   "outputs": [
    {
     "data": {
      "application/vnd.jupyter.widget-view+json": {
       "model_id": "d78b86a4c30a468c9e2b243606e054f2",
       "version_major": 2,
       "version_minor": 0
      },
      "text/plain": [
       "Calculating Metrics:   0%|          | 0/6 [00:00<?, ?it/s]"
      ]
     },
     "metadata": {},
     "output_type": "display_data"
    },
    {
     "data": {
      "text/plain": [
       "{\n",
       "  \"success\": true,\n",
       "  \"result\": {\n",
       "    \"element_count\": 3306,\n",
       "    \"unexpected_count\": 0,\n",
       "    \"unexpected_percent\": 0.0,\n",
       "    \"partial_unexpected_list\": []\n",
       "  },\n",
       "  \"meta\": {},\n",
       "  \"exception_info\": {\n",
       "    \"raised_exception\": false,\n",
       "    \"exception_traceback\": null,\n",
       "    \"exception_message\": null\n",
       "  }\n",
       "}"
      ]
     },
     "execution_count": 37,
     "metadata": {},
     "output_type": "execute_result"
    }
   ],
   "source": [
    "# Validasi untuk month_year (FK) -> Tidak boleh null\n",
    "validator.expect_column_values_to_not_be_null('month_year')"
   ]
  },
  {
   "cell_type": "code",
   "execution_count": 38,
   "metadata": {},
   "outputs": [
    {
     "data": {
      "application/vnd.jupyter.widget-view+json": {
       "model_id": "c443c7a611a74ff6b897aea0bb74ecc3",
       "version_major": 2,
       "version_minor": 0
      },
      "text/plain": [
       "Calculating Metrics:   0%|          | 0/6 [00:00<?, ?it/s]"
      ]
     },
     "metadata": {},
     "output_type": "display_data"
    },
    {
     "data": {
      "text/plain": [
       "{\n",
       "  \"success\": true,\n",
       "  \"result\": {\n",
       "    \"element_count\": 3306,\n",
       "    \"unexpected_count\": 0,\n",
       "    \"unexpected_percent\": 0.0,\n",
       "    \"partial_unexpected_list\": []\n",
       "  },\n",
       "  \"meta\": {},\n",
       "  \"exception_info\": {\n",
       "    \"raised_exception\": false,\n",
       "    \"exception_traceback\": null,\n",
       "    \"exception_message\": null\n",
       "  }\n",
       "}"
      ]
     },
     "execution_count": 38,
     "metadata": {},
     "output_type": "execute_result"
    }
   ],
   "source": [
    "# Validasi untuk month -> Tidak boleh null\n",
    "validator.expect_column_values_to_not_be_null('month')"
   ]
  },
  {
   "cell_type": "code",
   "execution_count": 39,
   "metadata": {},
   "outputs": [
    {
     "data": {
      "application/vnd.jupyter.widget-view+json": {
       "model_id": "83fa95b2f7fe4287b7b5da4d419d6977",
       "version_major": 2,
       "version_minor": 0
      },
      "text/plain": [
       "Calculating Metrics:   0%|          | 0/6 [00:00<?, ?it/s]"
      ]
     },
     "metadata": {},
     "output_type": "display_data"
    },
    {
     "data": {
      "text/plain": [
       "{\n",
       "  \"success\": true,\n",
       "  \"result\": {\n",
       "    \"element_count\": 3306,\n",
       "    \"unexpected_count\": 0,\n",
       "    \"unexpected_percent\": 0.0,\n",
       "    \"partial_unexpected_list\": []\n",
       "  },\n",
       "  \"meta\": {},\n",
       "  \"exception_info\": {\n",
       "    \"raised_exception\": false,\n",
       "    \"exception_traceback\": null,\n",
       "    \"exception_message\": null\n",
       "  }\n",
       "}"
      ]
     },
     "execution_count": 39,
     "metadata": {},
     "output_type": "execute_result"
    }
   ],
   "source": [
    "# Validasi untuk year -> Tidak boleh null\n",
    "validator.expect_column_values_to_not_be_null('year')"
   ]
  },
  {
   "cell_type": "code",
   "execution_count": 40,
   "metadata": {},
   "outputs": [
    {
     "data": {
      "application/vnd.jupyter.widget-view+json": {
       "model_id": "5e008a8952ff469c8f1c241b7caf3c9f",
       "version_major": 2,
       "version_minor": 0
      },
      "text/plain": [
       "Calculating Metrics:   0%|          | 0/6 [00:00<?, ?it/s]"
      ]
     },
     "metadata": {},
     "output_type": "display_data"
    },
    {
     "data": {
      "application/vnd.jupyter.widget-view+json": {
       "model_id": "9706ca115cc649b083307b8780c29d04",
       "version_major": 2,
       "version_minor": 0
      },
      "text/plain": [
       "Calculating Metrics:   0%|          | 0/8 [00:00<?, ?it/s]"
      ]
     },
     "metadata": {},
     "output_type": "display_data"
    },
    {
     "data": {
      "text/plain": [
       "{\n",
       "  \"success\": false,\n",
       "  \"result\": {\n",
       "    \"element_count\": 3306,\n",
       "    \"unexpected_count\": 3306,\n",
       "    \"unexpected_percent\": 100.0,\n",
       "    \"partial_unexpected_list\": [\n",
       "      \"2016-01-01\",\n",
       "      \"2016-01-02\",\n",
       "      \"2016-01-03\",\n",
       "      \"2016-01-04\",\n",
       "      \"2016-01-05\",\n",
       "      \"2016-01-06\",\n",
       "      \"2016-01-07\",\n",
       "      \"2016-01-08\",\n",
       "      \"2016-01-09\",\n",
       "      \"2016-01-10\",\n",
       "      \"2016-01-11\",\n",
       "      \"2016-01-12\",\n",
       "      \"2016-01-13\",\n",
       "      \"2016-01-14\",\n",
       "      \"2016-01-15\",\n",
       "      \"2016-01-16\",\n",
       "      \"2016-01-17\",\n",
       "      \"2016-01-18\",\n",
       "      \"2016-01-19\",\n",
       "      \"2016-01-20\"\n",
       "    ],\n",
       "    \"missing_count\": 0,\n",
       "    \"missing_percent\": 0.0,\n",
       "    \"unexpected_percent_total\": 100.0,\n",
       "    \"unexpected_percent_nonmissing\": 100.0\n",
       "  },\n",
       "  \"meta\": {},\n",
       "  \"exception_info\": {\n",
       "    \"raised_exception\": false,\n",
       "    \"exception_traceback\": null,\n",
       "    \"exception_message\": null\n",
       "  }\n",
       "}"
      ]
     },
     "execution_count": 40,
     "metadata": {},
     "output_type": "execute_result"
    }
   ],
   "source": [
    "# Validasi untuk date (PK) -> Harus datetime dan tidak boleh null\n",
    "validator.expect_column_values_to_not_be_null('date')\n",
    "validator.expect_column_values_to_match_strftime_format(\n",
    "    'date', '%Y-%m-%d %H:%M:%S'  # Format datetime yang diharapkan\n",
    ")"
   ]
  },
  {
   "cell_type": "markdown",
   "metadata": {},
   "source": [
    "# Fact assault"
   ]
  },
  {
   "cell_type": "code",
   "execution_count": 41,
   "metadata": {},
   "outputs": [],
   "source": [
    "# Give a name to a Datasource. This name must be unique between Datasources.\n",
    "datasource_name = 'csv-data-assault'\n",
    "datasource = context.sources.add_pandas(datasource_name)\n",
    "\n",
    "# Give a name to a data asset\n",
    "asset_name = 'assault'\n",
    "path_to_data = 'israel_political_events.csv'\n",
    "asset = datasource.add_csv_asset(asset_name, filepath_or_buffer=path_to_data)\n",
    "\n",
    "# Build batch request\n",
    "batch_request = asset.build_batch_request()"
   ]
  },
  {
   "cell_type": "code",
   "execution_count": 42,
   "metadata": {},
   "outputs": [
    {
     "data": {
      "application/vnd.jupyter.widget-view+json": {
       "model_id": "b0497219470d490db0c7a1a4f490bc52",
       "version_major": 2,
       "version_minor": 0
      },
      "text/plain": [
       "Calculating Metrics:   0%|          | 0/1 [00:00<?, ?it/s]"
      ]
     },
     "metadata": {},
     "output_type": "display_data"
    },
    {
     "data": {
      "text/html": [
       "<div>\n",
       "<style scoped>\n",
       "    .dataframe tbody tr th:only-of-type {\n",
       "        vertical-align: middle;\n",
       "    }\n",
       "\n",
       "    .dataframe tbody tr th {\n",
       "        vertical-align: top;\n",
       "    }\n",
       "\n",
       "    .dataframe thead th {\n",
       "        text-align: right;\n",
       "    }\n",
       "</style>\n",
       "<table border=\"1\" class=\"dataframe\">\n",
       "  <thead>\n",
       "    <tr style=\"text-align: right;\">\n",
       "      <th></th>\n",
       "      <th>Country</th>\n",
       "      <th>Month</th>\n",
       "      <th>Year</th>\n",
       "      <th>Events</th>\n",
       "      <th>Fatalities</th>\n",
       "    </tr>\n",
       "  </thead>\n",
       "  <tbody>\n",
       "    <tr>\n",
       "      <th>0</th>\n",
       "      <td>Israel</td>\n",
       "      <td>January</td>\n",
       "      <td>2016</td>\n",
       "      <td>5</td>\n",
       "      <td>3</td>\n",
       "    </tr>\n",
       "    <tr>\n",
       "      <th>1</th>\n",
       "      <td>Israel</td>\n",
       "      <td>February</td>\n",
       "      <td>2016</td>\n",
       "      <td>4</td>\n",
       "      <td>1</td>\n",
       "    </tr>\n",
       "    <tr>\n",
       "      <th>2</th>\n",
       "      <td>Israel</td>\n",
       "      <td>March</td>\n",
       "      <td>2016</td>\n",
       "      <td>6</td>\n",
       "      <td>3</td>\n",
       "    </tr>\n",
       "    <tr>\n",
       "      <th>3</th>\n",
       "      <td>Israel</td>\n",
       "      <td>April</td>\n",
       "      <td>2016</td>\n",
       "      <td>4</td>\n",
       "      <td>1</td>\n",
       "    </tr>\n",
       "    <tr>\n",
       "      <th>4</th>\n",
       "      <td>Israel</td>\n",
       "      <td>May</td>\n",
       "      <td>2016</td>\n",
       "      <td>8</td>\n",
       "      <td>0</td>\n",
       "    </tr>\n",
       "  </tbody>\n",
       "</table>\n",
       "</div>"
      ],
      "text/plain": [
       "  Country     Month  Year  Events  Fatalities\n",
       "0  Israel   January  2016       5           3\n",
       "1  Israel  February  2016       4           1\n",
       "2  Israel     March  2016       6           3\n",
       "3  Israel     April  2016       4           1\n",
       "4  Israel       May  2016       8           0"
      ]
     },
     "execution_count": 42,
     "metadata": {},
     "output_type": "execute_result"
    }
   ],
   "source": [
    "# Creat an expectation suite\n",
    "expectation_suite_name = 'expectation-fact-assault'\n",
    "context.add_or_update_expectation_suite(expectation_suite_name)\n",
    "\n",
    "# Create a validator using above expectation suite\n",
    "validator = context.get_validator(\n",
    "    batch_request = batch_request,\n",
    "    expectation_suite_name = expectation_suite_name\n",
    ")\n",
    "\n",
    "# Check the validator\n",
    "validator.head()"
   ]
  },
  {
   "cell_type": "code",
   "execution_count": 43,
   "metadata": {},
   "outputs": [
    {
     "data": {
      "application/vnd.jupyter.widget-view+json": {
       "model_id": "8adf9afc137a4c2eb248a92a431fdb22",
       "version_major": 2,
       "version_minor": 0
      },
      "text/plain": [
       "Calculating Metrics:   0%|          | 0/6 [00:00<?, ?it/s]"
      ]
     },
     "metadata": {},
     "output_type": "display_data"
    },
    {
     "data": {
      "text/plain": [
       "{\n",
       "  \"success\": true,\n",
       "  \"result\": {\n",
       "    \"element_count\": 109,\n",
       "    \"unexpected_count\": 0,\n",
       "    \"unexpected_percent\": 0.0,\n",
       "    \"partial_unexpected_list\": []\n",
       "  },\n",
       "  \"meta\": {},\n",
       "  \"exception_info\": {\n",
       "    \"raised_exception\": false,\n",
       "    \"exception_traceback\": null,\n",
       "    \"exception_message\": null\n",
       "  }\n",
       "}"
      ]
     },
     "execution_count": 43,
     "metadata": {},
     "output_type": "execute_result"
    }
   ],
   "source": [
    "# Validasi untuk country -> Tidak boleh null\n",
    "validator.expect_column_values_to_not_be_null('Country')"
   ]
  },
  {
   "cell_type": "code",
   "execution_count": 44,
   "metadata": {},
   "outputs": [],
   "source": [
    "# # Validasi untuk month_year (PK) -> Tidak boleh null\n",
    "# validator.expect_column_values_to_not_be_null('month_year')"
   ]
  },
  {
   "cell_type": "code",
   "execution_count": 45,
   "metadata": {},
   "outputs": [
    {
     "data": {
      "application/vnd.jupyter.widget-view+json": {
       "model_id": "0a3bcc704ff747e28ff992a8868d539a",
       "version_major": 2,
       "version_minor": 0
      },
      "text/plain": [
       "Calculating Metrics:   0%|          | 0/8 [00:00<?, ?it/s]"
      ]
     },
     "metadata": {},
     "output_type": "display_data"
    },
    {
     "data": {
      "text/plain": [
       "{\n",
       "  \"success\": true,\n",
       "  \"result\": {\n",
       "    \"element_count\": 109,\n",
       "    \"unexpected_count\": 0,\n",
       "    \"unexpected_percent\": 0.0,\n",
       "    \"partial_unexpected_list\": [],\n",
       "    \"missing_count\": 0,\n",
       "    \"missing_percent\": 0.0,\n",
       "    \"unexpected_percent_total\": 0.0,\n",
       "    \"unexpected_percent_nonmissing\": 0.0\n",
       "  },\n",
       "  \"meta\": {},\n",
       "  \"exception_info\": {\n",
       "    \"raised_exception\": false,\n",
       "    \"exception_traceback\": null,\n",
       "    \"exception_message\": null\n",
       "  }\n",
       "}"
      ]
     },
     "execution_count": 45,
     "metadata": {},
     "output_type": "execute_result"
    }
   ],
   "source": [
    "# Validasi untuk events -> Harus lebih dari atau sama dengan 0\n",
    "validator.expect_column_values_to_be_between(\n",
    "    column='Events', min_value=0, max_value=None\n",
    ")"
   ]
  },
  {
   "cell_type": "code",
   "execution_count": 46,
   "metadata": {},
   "outputs": [
    {
     "data": {
      "application/vnd.jupyter.widget-view+json": {
       "model_id": "9b3415bdd960467eb33587234f4c6d7c",
       "version_major": 2,
       "version_minor": 0
      },
      "text/plain": [
       "Calculating Metrics:   0%|          | 0/8 [00:00<?, ?it/s]"
      ]
     },
     "metadata": {},
     "output_type": "display_data"
    },
    {
     "data": {
      "text/plain": [
       "{\n",
       "  \"success\": true,\n",
       "  \"result\": {\n",
       "    \"element_count\": 109,\n",
       "    \"unexpected_count\": 0,\n",
       "    \"unexpected_percent\": 0.0,\n",
       "    \"partial_unexpected_list\": [],\n",
       "    \"missing_count\": 0,\n",
       "    \"missing_percent\": 0.0,\n",
       "    \"unexpected_percent_total\": 0.0,\n",
       "    \"unexpected_percent_nonmissing\": 0.0\n",
       "  },\n",
       "  \"meta\": {},\n",
       "  \"exception_info\": {\n",
       "    \"raised_exception\": false,\n",
       "    \"exception_traceback\": null,\n",
       "    \"exception_message\": null\n",
       "  }\n",
       "}"
      ]
     },
     "execution_count": 46,
     "metadata": {},
     "output_type": "execute_result"
    }
   ],
   "source": [
    "# Validasi untuk fatalities -> Harus lebih dari atau sama dengan 0\n",
    "validator.expect_column_values_to_be_between(\n",
    "    column='Fatalities', min_value=0, max_value=None\n",
    ")"
   ]
  }
 ],
 "metadata": {
  "kernelspec": {
   "display_name": "base",
   "language": "python",
   "name": "python3"
  },
  "language_info": {
   "codemirror_mode": {
    "name": "ipython",
    "version": 3
   },
   "file_extension": ".py",
   "mimetype": "text/x-python",
   "name": "python",
   "nbconvert_exporter": "python",
   "pygments_lexer": "ipython3",
   "version": "3.9.20"
  }
 },
 "nbformat": 4,
 "nbformat_minor": 2
}
